{
  "nbformat": 4,
  "nbformat_minor": 5,
  "metadata": {
    "kernelspec": {
      "display_name": "Python 3",
      "language": "python",
      "name": "python3"
    },
    "language_info": {
      "codemirror_mode": {
        "name": "ipython",
        "version": 3
      },
      "file_extension": ".py",
      "mimetype": "text/x-python",
      "name": "python",
      "nbconvert_exporter": "python",
      "pygments_lexer": "ipython3",
      "version": "3.8.8"
    },
    "colab": {
      "provenance": [],
      "collapsed_sections": [
        "a6a3d218",
        "6970dd99",
        "9d75cfa2",
        "68f3b2c9",
        "fad2de2f",
        "27906576",
        "e5fdf0c8",
        "56b3dafd",
        "c7ee4907",
        "3f58c9a7",
        "5fed2eac",
        "f5c5258d",
        "359b12f8",
        "d9affc84",
        "353e9d24",
        "d49bfa2d",
        "8d585a90",
        "3acbc947"
      ]
    }
  },
  "cells": [
    {
      "cell_type": "markdown",
      "metadata": {
        "id": "6yDxo9u0d9Na"
      },
      "source": [
        "# Project Business Statistics: E-news Express\n",
        "\n",
        "**Marks: 60**"
      ],
      "id": "6yDxo9u0d9Na"
    },
    {
      "cell_type": "markdown",
      "metadata": {
        "id": "SrLd-ICEmPSD"
      },
      "source": [
        "## Define Problem Statement and Objectives"
      ],
      "id": "SrLd-ICEmPSD"
    },
    {
      "cell_type": "markdown",
      "metadata": {
        "id": "9Vt1PLLqmXNn"
      },
      "source": [
        "The Data Science team performed an experiment to examine the impact of the new landing page in attracting new subscribers, randomly picking 100 users and splitting them evenly into two groups. The first group (control group) received the current landing page, while the second group (treatment group) received the new landing page. Data was collected on how people in both groups interacted with the two versions of the landing page.\n",
        "\n",
        "To conduct a statistical analysis (at a significance level of 5%) to assess the efficiency of the new landing page in attracting new subscribers to the news land page by answering the following questions:\n",
        "\n",
        "1. Do the users spend more time on the new landing page than on the existing landing page?\n",
        "2. Is the conversion rate (the proportion of users who visit the landing page and get converted) for the new page greater than the conversion rate for the old page?\n",
        "3. Does the converted status depend on the preferred language?\n",
        "4. Is the time spent on the new page the same for the different language users?\n",
        "\n"
      ],
      "id": "9Vt1PLLqmXNn"
    },
    {
      "cell_type": "markdown",
      "source": [
        "### Data Dictionary"
      ],
      "metadata": {
        "id": "888H2y9hdvV4"
      },
      "id": "888H2y9hdvV4"
    },
    {
      "cell_type": "markdown",
      "source": [
        "The data contains information regarding the interaction of users in both groups with the two versions of the landing page.\n",
        "\n",
        "1. user_id - Unique user ID of the person visiting the website\n",
        "2. group - Whether the user belongs to the first group (control) or the second group (treatment)\n",
        "3. landing_page - Whether the landing page is new or old\n",
        "4. time_spent_on_the_page - Time (in minutes) spent by the user on the landing page\n",
        "5. converted - Whether the user gets converted to a subscriber of the news portal or not\n",
        "6. language_preferred - Language chosen by the user to view the landing page"
      ],
      "metadata": {
        "id": "WQVTFM8SdXmv"
      },
      "id": "WQVTFM8SdXmv"
    },
    {
      "cell_type": "markdown",
      "metadata": {
        "id": "a6a3d218"
      },
      "source": [
        "## Import all the necessary libraries"
      ],
      "id": "a6a3d218"
    },
    {
      "cell_type": "code",
      "metadata": {
        "id": "658c5dec"
      },
      "source": [
        "import pandas as pd\n",
        "import numpy as np\n",
        "import scipy.stats as stat\n",
        "import matplotlib.pyplot as plt\n",
        "import seaborn as sns"
      ],
      "id": "658c5dec",
      "execution_count": 130,
      "outputs": []
    },
    {
      "cell_type": "markdown",
      "metadata": {
        "id": "6970dd99"
      },
      "source": [
        "## Reading the Data into a DataFrame"
      ],
      "id": "6970dd99"
    },
    {
      "cell_type": "code",
      "source": [
        "# read the data file\n",
        "df = pd.read_csv(\"abtest.csv\")"
      ],
      "metadata": {
        "id": "e01yh2nac_-y"
      },
      "id": "e01yh2nac_-y",
      "execution_count": 131,
      "outputs": []
    },
    {
      "cell_type": "markdown",
      "metadata": {
        "id": "9d75cfa2"
      },
      "source": [
        "## Explore the dataset and extract insights using Exploratory Data Analysis"
      ],
      "id": "9d75cfa2"
    },
    {
      "cell_type": "markdown",
      "metadata": {
        "id": "27201534"
      },
      "source": [
        "- Data Overview\n",
        "  - Viewing the first and last few rows of the dataset\n",
        "  - Checking the shape of the dataset\n",
        "  - Getting the statistical summary for the variables\n",
        "- Check for missing values\n",
        "- Check for duplicates"
      ],
      "id": "27201534"
    },
    {
      "cell_type": "markdown",
      "source": [
        "### Viewing the first and last few rows of the dataset"
      ],
      "metadata": {
        "id": "l13qv7SQeV3i"
      },
      "id": "l13qv7SQeV3i"
    },
    {
      "cell_type": "code",
      "metadata": {
        "id": "e1ad11d4",
        "colab": {
          "base_uri": "https://localhost:8080/",
          "height": 206
        },
        "outputId": "c5eead93-1277-4d95-c807-071b98fb3175"
      },
      "source": [
        "# Viewing the first few rows of the dataset\n",
        "df.head()"
      ],
      "id": "e1ad11d4",
      "execution_count": 132,
      "outputs": [
        {
          "output_type": "execute_result",
          "data": {
            "text/plain": [
              "   user_id      group landing_page  time_spent_on_the_page converted  \\\n",
              "0   546592    control          old                    3.48        no   \n",
              "1   546468  treatment          new                    7.13       yes   \n",
              "2   546462  treatment          new                    4.40        no   \n",
              "3   546567    control          old                    3.02        no   \n",
              "4   546459  treatment          new                    4.75       yes   \n",
              "\n",
              "  language_preferred  \n",
              "0            Spanish  \n",
              "1            English  \n",
              "2            Spanish  \n",
              "3             French  \n",
              "4            Spanish  "
            ],
            "text/html": [
              "\n",
              "  <div id=\"df-554744f6-cf41-401b-927b-3f78737a246d\" class=\"colab-df-container\">\n",
              "    <div>\n",
              "<style scoped>\n",
              "    .dataframe tbody tr th:only-of-type {\n",
              "        vertical-align: middle;\n",
              "    }\n",
              "\n",
              "    .dataframe tbody tr th {\n",
              "        vertical-align: top;\n",
              "    }\n",
              "\n",
              "    .dataframe thead th {\n",
              "        text-align: right;\n",
              "    }\n",
              "</style>\n",
              "<table border=\"1\" class=\"dataframe\">\n",
              "  <thead>\n",
              "    <tr style=\"text-align: right;\">\n",
              "      <th></th>\n",
              "      <th>user_id</th>\n",
              "      <th>group</th>\n",
              "      <th>landing_page</th>\n",
              "      <th>time_spent_on_the_page</th>\n",
              "      <th>converted</th>\n",
              "      <th>language_preferred</th>\n",
              "    </tr>\n",
              "  </thead>\n",
              "  <tbody>\n",
              "    <tr>\n",
              "      <th>0</th>\n",
              "      <td>546592</td>\n",
              "      <td>control</td>\n",
              "      <td>old</td>\n",
              "      <td>3.48</td>\n",
              "      <td>no</td>\n",
              "      <td>Spanish</td>\n",
              "    </tr>\n",
              "    <tr>\n",
              "      <th>1</th>\n",
              "      <td>546468</td>\n",
              "      <td>treatment</td>\n",
              "      <td>new</td>\n",
              "      <td>7.13</td>\n",
              "      <td>yes</td>\n",
              "      <td>English</td>\n",
              "    </tr>\n",
              "    <tr>\n",
              "      <th>2</th>\n",
              "      <td>546462</td>\n",
              "      <td>treatment</td>\n",
              "      <td>new</td>\n",
              "      <td>4.40</td>\n",
              "      <td>no</td>\n",
              "      <td>Spanish</td>\n",
              "    </tr>\n",
              "    <tr>\n",
              "      <th>3</th>\n",
              "      <td>546567</td>\n",
              "      <td>control</td>\n",
              "      <td>old</td>\n",
              "      <td>3.02</td>\n",
              "      <td>no</td>\n",
              "      <td>French</td>\n",
              "    </tr>\n",
              "    <tr>\n",
              "      <th>4</th>\n",
              "      <td>546459</td>\n",
              "      <td>treatment</td>\n",
              "      <td>new</td>\n",
              "      <td>4.75</td>\n",
              "      <td>yes</td>\n",
              "      <td>Spanish</td>\n",
              "    </tr>\n",
              "  </tbody>\n",
              "</table>\n",
              "</div>\n",
              "    <div class=\"colab-df-buttons\">\n",
              "\n",
              "  <div class=\"colab-df-container\">\n",
              "    <button class=\"colab-df-convert\" onclick=\"convertToInteractive('df-554744f6-cf41-401b-927b-3f78737a246d')\"\n",
              "            title=\"Convert this dataframe to an interactive table.\"\n",
              "            style=\"display:none;\">\n",
              "\n",
              "  <svg xmlns=\"http://www.w3.org/2000/svg\" height=\"24px\" viewBox=\"0 -960 960 960\">\n",
              "    <path d=\"M120-120v-720h720v720H120Zm60-500h600v-160H180v160Zm220 220h160v-160H400v160Zm0 220h160v-160H400v160ZM180-400h160v-160H180v160Zm440 0h160v-160H620v160ZM180-180h160v-160H180v160Zm440 0h160v-160H620v160Z\"/>\n",
              "  </svg>\n",
              "    </button>\n",
              "\n",
              "  <style>\n",
              "    .colab-df-container {\n",
              "      display:flex;\n",
              "      gap: 12px;\n",
              "    }\n",
              "\n",
              "    .colab-df-convert {\n",
              "      background-color: #E8F0FE;\n",
              "      border: none;\n",
              "      border-radius: 50%;\n",
              "      cursor: pointer;\n",
              "      display: none;\n",
              "      fill: #1967D2;\n",
              "      height: 32px;\n",
              "      padding: 0 0 0 0;\n",
              "      width: 32px;\n",
              "    }\n",
              "\n",
              "    .colab-df-convert:hover {\n",
              "      background-color: #E2EBFA;\n",
              "      box-shadow: 0px 1px 2px rgba(60, 64, 67, 0.3), 0px 1px 3px 1px rgba(60, 64, 67, 0.15);\n",
              "      fill: #174EA6;\n",
              "    }\n",
              "\n",
              "    .colab-df-buttons div {\n",
              "      margin-bottom: 4px;\n",
              "    }\n",
              "\n",
              "    [theme=dark] .colab-df-convert {\n",
              "      background-color: #3B4455;\n",
              "      fill: #D2E3FC;\n",
              "    }\n",
              "\n",
              "    [theme=dark] .colab-df-convert:hover {\n",
              "      background-color: #434B5C;\n",
              "      box-shadow: 0px 1px 3px 1px rgba(0, 0, 0, 0.15);\n",
              "      filter: drop-shadow(0px 1px 2px rgba(0, 0, 0, 0.3));\n",
              "      fill: #FFFFFF;\n",
              "    }\n",
              "  </style>\n",
              "\n",
              "    <script>\n",
              "      const buttonEl =\n",
              "        document.querySelector('#df-554744f6-cf41-401b-927b-3f78737a246d button.colab-df-convert');\n",
              "      buttonEl.style.display =\n",
              "        google.colab.kernel.accessAllowed ? 'block' : 'none';\n",
              "\n",
              "      async function convertToInteractive(key) {\n",
              "        const element = document.querySelector('#df-554744f6-cf41-401b-927b-3f78737a246d');\n",
              "        const dataTable =\n",
              "          await google.colab.kernel.invokeFunction('convertToInteractive',\n",
              "                                                    [key], {});\n",
              "        if (!dataTable) return;\n",
              "\n",
              "        const docLinkHtml = 'Like what you see? Visit the ' +\n",
              "          '<a target=\"_blank\" href=https://colab.research.google.com/notebooks/data_table.ipynb>data table notebook</a>'\n",
              "          + ' to learn more about interactive tables.';\n",
              "        element.innerHTML = '';\n",
              "        dataTable['output_type'] = 'display_data';\n",
              "        await google.colab.output.renderOutput(dataTable, element);\n",
              "        const docLink = document.createElement('div');\n",
              "        docLink.innerHTML = docLinkHtml;\n",
              "        element.appendChild(docLink);\n",
              "      }\n",
              "    </script>\n",
              "  </div>\n",
              "\n",
              "\n",
              "<div id=\"df-31491568-1d2d-43f6-835c-44869d52323b\">\n",
              "  <button class=\"colab-df-quickchart\" onclick=\"quickchart('df-31491568-1d2d-43f6-835c-44869d52323b')\"\n",
              "            title=\"Suggest charts\"\n",
              "            style=\"display:none;\">\n",
              "\n",
              "<svg xmlns=\"http://www.w3.org/2000/svg\" height=\"24px\"viewBox=\"0 0 24 24\"\n",
              "     width=\"24px\">\n",
              "    <g>\n",
              "        <path d=\"M19 3H5c-1.1 0-2 .9-2 2v14c0 1.1.9 2 2 2h14c1.1 0 2-.9 2-2V5c0-1.1-.9-2-2-2zM9 17H7v-7h2v7zm4 0h-2V7h2v10zm4 0h-2v-4h2v4z\"/>\n",
              "    </g>\n",
              "</svg>\n",
              "  </button>\n",
              "\n",
              "<style>\n",
              "  .colab-df-quickchart {\n",
              "      --bg-color: #E8F0FE;\n",
              "      --fill-color: #1967D2;\n",
              "      --hover-bg-color: #E2EBFA;\n",
              "      --hover-fill-color: #174EA6;\n",
              "      --disabled-fill-color: #AAA;\n",
              "      --disabled-bg-color: #DDD;\n",
              "  }\n",
              "\n",
              "  [theme=dark] .colab-df-quickchart {\n",
              "      --bg-color: #3B4455;\n",
              "      --fill-color: #D2E3FC;\n",
              "      --hover-bg-color: #434B5C;\n",
              "      --hover-fill-color: #FFFFFF;\n",
              "      --disabled-bg-color: #3B4455;\n",
              "      --disabled-fill-color: #666;\n",
              "  }\n",
              "\n",
              "  .colab-df-quickchart {\n",
              "    background-color: var(--bg-color);\n",
              "    border: none;\n",
              "    border-radius: 50%;\n",
              "    cursor: pointer;\n",
              "    display: none;\n",
              "    fill: var(--fill-color);\n",
              "    height: 32px;\n",
              "    padding: 0;\n",
              "    width: 32px;\n",
              "  }\n",
              "\n",
              "  .colab-df-quickchart:hover {\n",
              "    background-color: var(--hover-bg-color);\n",
              "    box-shadow: 0 1px 2px rgba(60, 64, 67, 0.3), 0 1px 3px 1px rgba(60, 64, 67, 0.15);\n",
              "    fill: var(--button-hover-fill-color);\n",
              "  }\n",
              "\n",
              "  .colab-df-quickchart-complete:disabled,\n",
              "  .colab-df-quickchart-complete:disabled:hover {\n",
              "    background-color: var(--disabled-bg-color);\n",
              "    fill: var(--disabled-fill-color);\n",
              "    box-shadow: none;\n",
              "  }\n",
              "\n",
              "  .colab-df-spinner {\n",
              "    border: 2px solid var(--fill-color);\n",
              "    border-color: transparent;\n",
              "    border-bottom-color: var(--fill-color);\n",
              "    animation:\n",
              "      spin 1s steps(1) infinite;\n",
              "  }\n",
              "\n",
              "  @keyframes spin {\n",
              "    0% {\n",
              "      border-color: transparent;\n",
              "      border-bottom-color: var(--fill-color);\n",
              "      border-left-color: var(--fill-color);\n",
              "    }\n",
              "    20% {\n",
              "      border-color: transparent;\n",
              "      border-left-color: var(--fill-color);\n",
              "      border-top-color: var(--fill-color);\n",
              "    }\n",
              "    30% {\n",
              "      border-color: transparent;\n",
              "      border-left-color: var(--fill-color);\n",
              "      border-top-color: var(--fill-color);\n",
              "      border-right-color: var(--fill-color);\n",
              "    }\n",
              "    40% {\n",
              "      border-color: transparent;\n",
              "      border-right-color: var(--fill-color);\n",
              "      border-top-color: var(--fill-color);\n",
              "    }\n",
              "    60% {\n",
              "      border-color: transparent;\n",
              "      border-right-color: var(--fill-color);\n",
              "    }\n",
              "    80% {\n",
              "      border-color: transparent;\n",
              "      border-right-color: var(--fill-color);\n",
              "      border-bottom-color: var(--fill-color);\n",
              "    }\n",
              "    90% {\n",
              "      border-color: transparent;\n",
              "      border-bottom-color: var(--fill-color);\n",
              "    }\n",
              "  }\n",
              "</style>\n",
              "\n",
              "  <script>\n",
              "    async function quickchart(key) {\n",
              "      const quickchartButtonEl =\n",
              "        document.querySelector('#' + key + ' button');\n",
              "      quickchartButtonEl.disabled = true;  // To prevent multiple clicks.\n",
              "      quickchartButtonEl.classList.add('colab-df-spinner');\n",
              "      try {\n",
              "        const charts = await google.colab.kernel.invokeFunction(\n",
              "            'suggestCharts', [key], {});\n",
              "      } catch (error) {\n",
              "        console.error('Error during call to suggestCharts:', error);\n",
              "      }\n",
              "      quickchartButtonEl.classList.remove('colab-df-spinner');\n",
              "      quickchartButtonEl.classList.add('colab-df-quickchart-complete');\n",
              "    }\n",
              "    (() => {\n",
              "      let quickchartButtonEl =\n",
              "        document.querySelector('#df-31491568-1d2d-43f6-835c-44869d52323b button');\n",
              "      quickchartButtonEl.style.display =\n",
              "        google.colab.kernel.accessAllowed ? 'block' : 'none';\n",
              "    })();\n",
              "  </script>\n",
              "</div>\n",
              "\n",
              "    </div>\n",
              "  </div>\n"
            ]
          },
          "metadata": {},
          "execution_count": 132
        }
      ]
    },
    {
      "cell_type": "code",
      "source": [
        "# Viewing the last few rows of the dataset\n",
        "df.tail()"
      ],
      "metadata": {
        "colab": {
          "base_uri": "https://localhost:8080/",
          "height": 206
        },
        "id": "mZviyjXUpjA2",
        "outputId": "06bc8701-b01d-4f3e-a26b-21fc0e01a229"
      },
      "id": "mZviyjXUpjA2",
      "execution_count": 133,
      "outputs": [
        {
          "output_type": "execute_result",
          "data": {
            "text/plain": [
              "    user_id      group landing_page  time_spent_on_the_page converted  \\\n",
              "95   546446  treatment          new                    5.15        no   \n",
              "96   546544    control          old                    6.52       yes   \n",
              "97   546472  treatment          new                    7.07       yes   \n",
              "98   546481  treatment          new                    6.20       yes   \n",
              "99   546483  treatment          new                    5.86       yes   \n",
              "\n",
              "   language_preferred  \n",
              "95            Spanish  \n",
              "96            English  \n",
              "97            Spanish  \n",
              "98            Spanish  \n",
              "99            English  "
            ],
            "text/html": [
              "\n",
              "  <div id=\"df-a75908d8-ec5f-4244-904f-871bff9c7e65\" class=\"colab-df-container\">\n",
              "    <div>\n",
              "<style scoped>\n",
              "    .dataframe tbody tr th:only-of-type {\n",
              "        vertical-align: middle;\n",
              "    }\n",
              "\n",
              "    .dataframe tbody tr th {\n",
              "        vertical-align: top;\n",
              "    }\n",
              "\n",
              "    .dataframe thead th {\n",
              "        text-align: right;\n",
              "    }\n",
              "</style>\n",
              "<table border=\"1\" class=\"dataframe\">\n",
              "  <thead>\n",
              "    <tr style=\"text-align: right;\">\n",
              "      <th></th>\n",
              "      <th>user_id</th>\n",
              "      <th>group</th>\n",
              "      <th>landing_page</th>\n",
              "      <th>time_spent_on_the_page</th>\n",
              "      <th>converted</th>\n",
              "      <th>language_preferred</th>\n",
              "    </tr>\n",
              "  </thead>\n",
              "  <tbody>\n",
              "    <tr>\n",
              "      <th>95</th>\n",
              "      <td>546446</td>\n",
              "      <td>treatment</td>\n",
              "      <td>new</td>\n",
              "      <td>5.15</td>\n",
              "      <td>no</td>\n",
              "      <td>Spanish</td>\n",
              "    </tr>\n",
              "    <tr>\n",
              "      <th>96</th>\n",
              "      <td>546544</td>\n",
              "      <td>control</td>\n",
              "      <td>old</td>\n",
              "      <td>6.52</td>\n",
              "      <td>yes</td>\n",
              "      <td>English</td>\n",
              "    </tr>\n",
              "    <tr>\n",
              "      <th>97</th>\n",
              "      <td>546472</td>\n",
              "      <td>treatment</td>\n",
              "      <td>new</td>\n",
              "      <td>7.07</td>\n",
              "      <td>yes</td>\n",
              "      <td>Spanish</td>\n",
              "    </tr>\n",
              "    <tr>\n",
              "      <th>98</th>\n",
              "      <td>546481</td>\n",
              "      <td>treatment</td>\n",
              "      <td>new</td>\n",
              "      <td>6.20</td>\n",
              "      <td>yes</td>\n",
              "      <td>Spanish</td>\n",
              "    </tr>\n",
              "    <tr>\n",
              "      <th>99</th>\n",
              "      <td>546483</td>\n",
              "      <td>treatment</td>\n",
              "      <td>new</td>\n",
              "      <td>5.86</td>\n",
              "      <td>yes</td>\n",
              "      <td>English</td>\n",
              "    </tr>\n",
              "  </tbody>\n",
              "</table>\n",
              "</div>\n",
              "    <div class=\"colab-df-buttons\">\n",
              "\n",
              "  <div class=\"colab-df-container\">\n",
              "    <button class=\"colab-df-convert\" onclick=\"convertToInteractive('df-a75908d8-ec5f-4244-904f-871bff9c7e65')\"\n",
              "            title=\"Convert this dataframe to an interactive table.\"\n",
              "            style=\"display:none;\">\n",
              "\n",
              "  <svg xmlns=\"http://www.w3.org/2000/svg\" height=\"24px\" viewBox=\"0 -960 960 960\">\n",
              "    <path d=\"M120-120v-720h720v720H120Zm60-500h600v-160H180v160Zm220 220h160v-160H400v160Zm0 220h160v-160H400v160ZM180-400h160v-160H180v160Zm440 0h160v-160H620v160ZM180-180h160v-160H180v160Zm440 0h160v-160H620v160Z\"/>\n",
              "  </svg>\n",
              "    </button>\n",
              "\n",
              "  <style>\n",
              "    .colab-df-container {\n",
              "      display:flex;\n",
              "      gap: 12px;\n",
              "    }\n",
              "\n",
              "    .colab-df-convert {\n",
              "      background-color: #E8F0FE;\n",
              "      border: none;\n",
              "      border-radius: 50%;\n",
              "      cursor: pointer;\n",
              "      display: none;\n",
              "      fill: #1967D2;\n",
              "      height: 32px;\n",
              "      padding: 0 0 0 0;\n",
              "      width: 32px;\n",
              "    }\n",
              "\n",
              "    .colab-df-convert:hover {\n",
              "      background-color: #E2EBFA;\n",
              "      box-shadow: 0px 1px 2px rgba(60, 64, 67, 0.3), 0px 1px 3px 1px rgba(60, 64, 67, 0.15);\n",
              "      fill: #174EA6;\n",
              "    }\n",
              "\n",
              "    .colab-df-buttons div {\n",
              "      margin-bottom: 4px;\n",
              "    }\n",
              "\n",
              "    [theme=dark] .colab-df-convert {\n",
              "      background-color: #3B4455;\n",
              "      fill: #D2E3FC;\n",
              "    }\n",
              "\n",
              "    [theme=dark] .colab-df-convert:hover {\n",
              "      background-color: #434B5C;\n",
              "      box-shadow: 0px 1px 3px 1px rgba(0, 0, 0, 0.15);\n",
              "      filter: drop-shadow(0px 1px 2px rgba(0, 0, 0, 0.3));\n",
              "      fill: #FFFFFF;\n",
              "    }\n",
              "  </style>\n",
              "\n",
              "    <script>\n",
              "      const buttonEl =\n",
              "        document.querySelector('#df-a75908d8-ec5f-4244-904f-871bff9c7e65 button.colab-df-convert');\n",
              "      buttonEl.style.display =\n",
              "        google.colab.kernel.accessAllowed ? 'block' : 'none';\n",
              "\n",
              "      async function convertToInteractive(key) {\n",
              "        const element = document.querySelector('#df-a75908d8-ec5f-4244-904f-871bff9c7e65');\n",
              "        const dataTable =\n",
              "          await google.colab.kernel.invokeFunction('convertToInteractive',\n",
              "                                                    [key], {});\n",
              "        if (!dataTable) return;\n",
              "\n",
              "        const docLinkHtml = 'Like what you see? Visit the ' +\n",
              "          '<a target=\"_blank\" href=https://colab.research.google.com/notebooks/data_table.ipynb>data table notebook</a>'\n",
              "          + ' to learn more about interactive tables.';\n",
              "        element.innerHTML = '';\n",
              "        dataTable['output_type'] = 'display_data';\n",
              "        await google.colab.output.renderOutput(dataTable, element);\n",
              "        const docLink = document.createElement('div');\n",
              "        docLink.innerHTML = docLinkHtml;\n",
              "        element.appendChild(docLink);\n",
              "      }\n",
              "    </script>\n",
              "  </div>\n",
              "\n",
              "\n",
              "<div id=\"df-27a1a274-da7c-43a9-bbed-80448be7c004\">\n",
              "  <button class=\"colab-df-quickchart\" onclick=\"quickchart('df-27a1a274-da7c-43a9-bbed-80448be7c004')\"\n",
              "            title=\"Suggest charts\"\n",
              "            style=\"display:none;\">\n",
              "\n",
              "<svg xmlns=\"http://www.w3.org/2000/svg\" height=\"24px\"viewBox=\"0 0 24 24\"\n",
              "     width=\"24px\">\n",
              "    <g>\n",
              "        <path d=\"M19 3H5c-1.1 0-2 .9-2 2v14c0 1.1.9 2 2 2h14c1.1 0 2-.9 2-2V5c0-1.1-.9-2-2-2zM9 17H7v-7h2v7zm4 0h-2V7h2v10zm4 0h-2v-4h2v4z\"/>\n",
              "    </g>\n",
              "</svg>\n",
              "  </button>\n",
              "\n",
              "<style>\n",
              "  .colab-df-quickchart {\n",
              "      --bg-color: #E8F0FE;\n",
              "      --fill-color: #1967D2;\n",
              "      --hover-bg-color: #E2EBFA;\n",
              "      --hover-fill-color: #174EA6;\n",
              "      --disabled-fill-color: #AAA;\n",
              "      --disabled-bg-color: #DDD;\n",
              "  }\n",
              "\n",
              "  [theme=dark] .colab-df-quickchart {\n",
              "      --bg-color: #3B4455;\n",
              "      --fill-color: #D2E3FC;\n",
              "      --hover-bg-color: #434B5C;\n",
              "      --hover-fill-color: #FFFFFF;\n",
              "      --disabled-bg-color: #3B4455;\n",
              "      --disabled-fill-color: #666;\n",
              "  }\n",
              "\n",
              "  .colab-df-quickchart {\n",
              "    background-color: var(--bg-color);\n",
              "    border: none;\n",
              "    border-radius: 50%;\n",
              "    cursor: pointer;\n",
              "    display: none;\n",
              "    fill: var(--fill-color);\n",
              "    height: 32px;\n",
              "    padding: 0;\n",
              "    width: 32px;\n",
              "  }\n",
              "\n",
              "  .colab-df-quickchart:hover {\n",
              "    background-color: var(--hover-bg-color);\n",
              "    box-shadow: 0 1px 2px rgba(60, 64, 67, 0.3), 0 1px 3px 1px rgba(60, 64, 67, 0.15);\n",
              "    fill: var(--button-hover-fill-color);\n",
              "  }\n",
              "\n",
              "  .colab-df-quickchart-complete:disabled,\n",
              "  .colab-df-quickchart-complete:disabled:hover {\n",
              "    background-color: var(--disabled-bg-color);\n",
              "    fill: var(--disabled-fill-color);\n",
              "    box-shadow: none;\n",
              "  }\n",
              "\n",
              "  .colab-df-spinner {\n",
              "    border: 2px solid var(--fill-color);\n",
              "    border-color: transparent;\n",
              "    border-bottom-color: var(--fill-color);\n",
              "    animation:\n",
              "      spin 1s steps(1) infinite;\n",
              "  }\n",
              "\n",
              "  @keyframes spin {\n",
              "    0% {\n",
              "      border-color: transparent;\n",
              "      border-bottom-color: var(--fill-color);\n",
              "      border-left-color: var(--fill-color);\n",
              "    }\n",
              "    20% {\n",
              "      border-color: transparent;\n",
              "      border-left-color: var(--fill-color);\n",
              "      border-top-color: var(--fill-color);\n",
              "    }\n",
              "    30% {\n",
              "      border-color: transparent;\n",
              "      border-left-color: var(--fill-color);\n",
              "      border-top-color: var(--fill-color);\n",
              "      border-right-color: var(--fill-color);\n",
              "    }\n",
              "    40% {\n",
              "      border-color: transparent;\n",
              "      border-right-color: var(--fill-color);\n",
              "      border-top-color: var(--fill-color);\n",
              "    }\n",
              "    60% {\n",
              "      border-color: transparent;\n",
              "      border-right-color: var(--fill-color);\n",
              "    }\n",
              "    80% {\n",
              "      border-color: transparent;\n",
              "      border-right-color: var(--fill-color);\n",
              "      border-bottom-color: var(--fill-color);\n",
              "    }\n",
              "    90% {\n",
              "      border-color: transparent;\n",
              "      border-bottom-color: var(--fill-color);\n",
              "    }\n",
              "  }\n",
              "</style>\n",
              "\n",
              "  <script>\n",
              "    async function quickchart(key) {\n",
              "      const quickchartButtonEl =\n",
              "        document.querySelector('#' + key + ' button');\n",
              "      quickchartButtonEl.disabled = true;  // To prevent multiple clicks.\n",
              "      quickchartButtonEl.classList.add('colab-df-spinner');\n",
              "      try {\n",
              "        const charts = await google.colab.kernel.invokeFunction(\n",
              "            'suggestCharts', [key], {});\n",
              "      } catch (error) {\n",
              "        console.error('Error during call to suggestCharts:', error);\n",
              "      }\n",
              "      quickchartButtonEl.classList.remove('colab-df-spinner');\n",
              "      quickchartButtonEl.classList.add('colab-df-quickchart-complete');\n",
              "    }\n",
              "    (() => {\n",
              "      let quickchartButtonEl =\n",
              "        document.querySelector('#df-27a1a274-da7c-43a9-bbed-80448be7c004 button');\n",
              "      quickchartButtonEl.style.display =\n",
              "        google.colab.kernel.accessAllowed ? 'block' : 'none';\n",
              "    })();\n",
              "  </script>\n",
              "</div>\n",
              "\n",
              "    </div>\n",
              "  </div>\n"
            ]
          },
          "metadata": {},
          "execution_count": 133
        }
      ]
    },
    {
      "cell_type": "markdown",
      "source": [
        "Observasion:\n",
        "- The DataFrame has 6 columns and each row corresponds to a user visiting the website."
      ],
      "metadata": {
        "id": "DlxUrJusC-DT"
      },
      "id": "DlxUrJusC-DT"
    },
    {
      "cell_type": "markdown",
      "source": [
        "### Checking the shape of the dataset"
      ],
      "metadata": {
        "id": "54S6Yc2Yerdo"
      },
      "id": "54S6Yc2Yerdo"
    },
    {
      "cell_type": "code",
      "source": [
        "# Checking the shape of the dataset\n",
        "print(\"There are\", df.shape[0], 'rows and', df.shape[1], \"columns.\")"
      ],
      "metadata": {
        "colab": {
          "base_uri": "https://localhost:8080/"
        },
        "id": "dM2jEtKBejBO",
        "outputId": "5ee49a1b-d6fd-4db6-e61f-9c4bc730cb56"
      },
      "id": "dM2jEtKBejBO",
      "execution_count": 134,
      "outputs": [
        {
          "output_type": "stream",
          "name": "stdout",
          "text": [
            "There are 100 rows and 6 columns.\n"
          ]
        }
      ]
    },
    {
      "cell_type": "markdown",
      "source": [
        "### Checking the variables type"
      ],
      "metadata": {
        "id": "jBQXkHqie9pW"
      },
      "id": "jBQXkHqie9pW"
    },
    {
      "cell_type": "code",
      "source": [
        "# Checking the variables types\n",
        "df.info()"
      ],
      "metadata": {
        "colab": {
          "base_uri": "https://localhost:8080/"
        },
        "id": "SUeGzSYVpz1A",
        "outputId": "0fbd3e95-6f79-4659-d480-efc76d8306b6"
      },
      "id": "SUeGzSYVpz1A",
      "execution_count": 135,
      "outputs": [
        {
          "output_type": "stream",
          "name": "stdout",
          "text": [
            "<class 'pandas.core.frame.DataFrame'>\n",
            "RangeIndex: 100 entries, 0 to 99\n",
            "Data columns (total 6 columns):\n",
            " #   Column                  Non-Null Count  Dtype  \n",
            "---  ------                  --------------  -----  \n",
            " 0   user_id                 100 non-null    int64  \n",
            " 1   group                   100 non-null    object \n",
            " 2   landing_page            100 non-null    object \n",
            " 3   time_spent_on_the_page  100 non-null    float64\n",
            " 4   converted               100 non-null    object \n",
            " 5   language_preferred      100 non-null    object \n",
            "dtypes: float64(1), int64(1), object(4)\n",
            "memory usage: 4.8+ KB\n"
          ]
        }
      ]
    },
    {
      "cell_type": "markdown",
      "source": [
        "Observation:\n",
        "There are 2 numerical columns in the data and 4 object type columns."
      ],
      "metadata": {
        "id": "2p6RYKI0ESHP"
      },
      "id": "2p6RYKI0ESHP"
    },
    {
      "cell_type": "markdown",
      "source": [
        "### Getting the statistical summary for the numerical variables"
      ],
      "metadata": {
        "id": "AzMmTeCGfHAu"
      },
      "id": "AzMmTeCGfHAu"
    },
    {
      "cell_type": "code",
      "source": [
        "# Getting the statistical summary for the numerical variables\n",
        "df.describe().T"
      ],
      "metadata": {
        "colab": {
          "base_uri": "https://localhost:8080/",
          "height": 112
        },
        "id": "Yn9GTufBmOf6",
        "outputId": "0f037d60-db32-4074-b98f-77049a98cf05"
      },
      "id": "Yn9GTufBmOf6",
      "execution_count": 136,
      "outputs": [
        {
          "output_type": "execute_result",
          "data": {
            "text/plain": [
              "                        count         mean        std        min        25%  \\\n",
              "user_id                 100.0  546517.0000  52.295779  546443.00  546467.75   \n",
              "time_spent_on_the_page  100.0       5.3778   2.378166       0.19       3.88   \n",
              "\n",
              "                               50%          75%        max  \n",
              "user_id                 546492.500  546567.2500  546592.00  \n",
              "time_spent_on_the_page       5.415       7.0225      10.71  "
            ],
            "text/html": [
              "\n",
              "  <div id=\"df-c4f550bd-7ebd-446c-99dd-cd7c5e456433\" class=\"colab-df-container\">\n",
              "    <div>\n",
              "<style scoped>\n",
              "    .dataframe tbody tr th:only-of-type {\n",
              "        vertical-align: middle;\n",
              "    }\n",
              "\n",
              "    .dataframe tbody tr th {\n",
              "        vertical-align: top;\n",
              "    }\n",
              "\n",
              "    .dataframe thead th {\n",
              "        text-align: right;\n",
              "    }\n",
              "</style>\n",
              "<table border=\"1\" class=\"dataframe\">\n",
              "  <thead>\n",
              "    <tr style=\"text-align: right;\">\n",
              "      <th></th>\n",
              "      <th>count</th>\n",
              "      <th>mean</th>\n",
              "      <th>std</th>\n",
              "      <th>min</th>\n",
              "      <th>25%</th>\n",
              "      <th>50%</th>\n",
              "      <th>75%</th>\n",
              "      <th>max</th>\n",
              "    </tr>\n",
              "  </thead>\n",
              "  <tbody>\n",
              "    <tr>\n",
              "      <th>user_id</th>\n",
              "      <td>100.0</td>\n",
              "      <td>546517.0000</td>\n",
              "      <td>52.295779</td>\n",
              "      <td>546443.00</td>\n",
              "      <td>546467.75</td>\n",
              "      <td>546492.500</td>\n",
              "      <td>546567.2500</td>\n",
              "      <td>546592.00</td>\n",
              "    </tr>\n",
              "    <tr>\n",
              "      <th>time_spent_on_the_page</th>\n",
              "      <td>100.0</td>\n",
              "      <td>5.3778</td>\n",
              "      <td>2.378166</td>\n",
              "      <td>0.19</td>\n",
              "      <td>3.88</td>\n",
              "      <td>5.415</td>\n",
              "      <td>7.0225</td>\n",
              "      <td>10.71</td>\n",
              "    </tr>\n",
              "  </tbody>\n",
              "</table>\n",
              "</div>\n",
              "    <div class=\"colab-df-buttons\">\n",
              "\n",
              "  <div class=\"colab-df-container\">\n",
              "    <button class=\"colab-df-convert\" onclick=\"convertToInteractive('df-c4f550bd-7ebd-446c-99dd-cd7c5e456433')\"\n",
              "            title=\"Convert this dataframe to an interactive table.\"\n",
              "            style=\"display:none;\">\n",
              "\n",
              "  <svg xmlns=\"http://www.w3.org/2000/svg\" height=\"24px\" viewBox=\"0 -960 960 960\">\n",
              "    <path d=\"M120-120v-720h720v720H120Zm60-500h600v-160H180v160Zm220 220h160v-160H400v160Zm0 220h160v-160H400v160ZM180-400h160v-160H180v160Zm440 0h160v-160H620v160ZM180-180h160v-160H180v160Zm440 0h160v-160H620v160Z\"/>\n",
              "  </svg>\n",
              "    </button>\n",
              "\n",
              "  <style>\n",
              "    .colab-df-container {\n",
              "      display:flex;\n",
              "      gap: 12px;\n",
              "    }\n",
              "\n",
              "    .colab-df-convert {\n",
              "      background-color: #E8F0FE;\n",
              "      border: none;\n",
              "      border-radius: 50%;\n",
              "      cursor: pointer;\n",
              "      display: none;\n",
              "      fill: #1967D2;\n",
              "      height: 32px;\n",
              "      padding: 0 0 0 0;\n",
              "      width: 32px;\n",
              "    }\n",
              "\n",
              "    .colab-df-convert:hover {\n",
              "      background-color: #E2EBFA;\n",
              "      box-shadow: 0px 1px 2px rgba(60, 64, 67, 0.3), 0px 1px 3px 1px rgba(60, 64, 67, 0.15);\n",
              "      fill: #174EA6;\n",
              "    }\n",
              "\n",
              "    .colab-df-buttons div {\n",
              "      margin-bottom: 4px;\n",
              "    }\n",
              "\n",
              "    [theme=dark] .colab-df-convert {\n",
              "      background-color: #3B4455;\n",
              "      fill: #D2E3FC;\n",
              "    }\n",
              "\n",
              "    [theme=dark] .colab-df-convert:hover {\n",
              "      background-color: #434B5C;\n",
              "      box-shadow: 0px 1px 3px 1px rgba(0, 0, 0, 0.15);\n",
              "      filter: drop-shadow(0px 1px 2px rgba(0, 0, 0, 0.3));\n",
              "      fill: #FFFFFF;\n",
              "    }\n",
              "  </style>\n",
              "\n",
              "    <script>\n",
              "      const buttonEl =\n",
              "        document.querySelector('#df-c4f550bd-7ebd-446c-99dd-cd7c5e456433 button.colab-df-convert');\n",
              "      buttonEl.style.display =\n",
              "        google.colab.kernel.accessAllowed ? 'block' : 'none';\n",
              "\n",
              "      async function convertToInteractive(key) {\n",
              "        const element = document.querySelector('#df-c4f550bd-7ebd-446c-99dd-cd7c5e456433');\n",
              "        const dataTable =\n",
              "          await google.colab.kernel.invokeFunction('convertToInteractive',\n",
              "                                                    [key], {});\n",
              "        if (!dataTable) return;\n",
              "\n",
              "        const docLinkHtml = 'Like what you see? Visit the ' +\n",
              "          '<a target=\"_blank\" href=https://colab.research.google.com/notebooks/data_table.ipynb>data table notebook</a>'\n",
              "          + ' to learn more about interactive tables.';\n",
              "        element.innerHTML = '';\n",
              "        dataTable['output_type'] = 'display_data';\n",
              "        await google.colab.output.renderOutput(dataTable, element);\n",
              "        const docLink = document.createElement('div');\n",
              "        docLink.innerHTML = docLinkHtml;\n",
              "        element.appendChild(docLink);\n",
              "      }\n",
              "    </script>\n",
              "  </div>\n",
              "\n",
              "\n",
              "<div id=\"df-5c20ffb8-9688-4e50-aab8-076b8fdb079b\">\n",
              "  <button class=\"colab-df-quickchart\" onclick=\"quickchart('df-5c20ffb8-9688-4e50-aab8-076b8fdb079b')\"\n",
              "            title=\"Suggest charts\"\n",
              "            style=\"display:none;\">\n",
              "\n",
              "<svg xmlns=\"http://www.w3.org/2000/svg\" height=\"24px\"viewBox=\"0 0 24 24\"\n",
              "     width=\"24px\">\n",
              "    <g>\n",
              "        <path d=\"M19 3H5c-1.1 0-2 .9-2 2v14c0 1.1.9 2 2 2h14c1.1 0 2-.9 2-2V5c0-1.1-.9-2-2-2zM9 17H7v-7h2v7zm4 0h-2V7h2v10zm4 0h-2v-4h2v4z\"/>\n",
              "    </g>\n",
              "</svg>\n",
              "  </button>\n",
              "\n",
              "<style>\n",
              "  .colab-df-quickchart {\n",
              "      --bg-color: #E8F0FE;\n",
              "      --fill-color: #1967D2;\n",
              "      --hover-bg-color: #E2EBFA;\n",
              "      --hover-fill-color: #174EA6;\n",
              "      --disabled-fill-color: #AAA;\n",
              "      --disabled-bg-color: #DDD;\n",
              "  }\n",
              "\n",
              "  [theme=dark] .colab-df-quickchart {\n",
              "      --bg-color: #3B4455;\n",
              "      --fill-color: #D2E3FC;\n",
              "      --hover-bg-color: #434B5C;\n",
              "      --hover-fill-color: #FFFFFF;\n",
              "      --disabled-bg-color: #3B4455;\n",
              "      --disabled-fill-color: #666;\n",
              "  }\n",
              "\n",
              "  .colab-df-quickchart {\n",
              "    background-color: var(--bg-color);\n",
              "    border: none;\n",
              "    border-radius: 50%;\n",
              "    cursor: pointer;\n",
              "    display: none;\n",
              "    fill: var(--fill-color);\n",
              "    height: 32px;\n",
              "    padding: 0;\n",
              "    width: 32px;\n",
              "  }\n",
              "\n",
              "  .colab-df-quickchart:hover {\n",
              "    background-color: var(--hover-bg-color);\n",
              "    box-shadow: 0 1px 2px rgba(60, 64, 67, 0.3), 0 1px 3px 1px rgba(60, 64, 67, 0.15);\n",
              "    fill: var(--button-hover-fill-color);\n",
              "  }\n",
              "\n",
              "  .colab-df-quickchart-complete:disabled,\n",
              "  .colab-df-quickchart-complete:disabled:hover {\n",
              "    background-color: var(--disabled-bg-color);\n",
              "    fill: var(--disabled-fill-color);\n",
              "    box-shadow: none;\n",
              "  }\n",
              "\n",
              "  .colab-df-spinner {\n",
              "    border: 2px solid var(--fill-color);\n",
              "    border-color: transparent;\n",
              "    border-bottom-color: var(--fill-color);\n",
              "    animation:\n",
              "      spin 1s steps(1) infinite;\n",
              "  }\n",
              "\n",
              "  @keyframes spin {\n",
              "    0% {\n",
              "      border-color: transparent;\n",
              "      border-bottom-color: var(--fill-color);\n",
              "      border-left-color: var(--fill-color);\n",
              "    }\n",
              "    20% {\n",
              "      border-color: transparent;\n",
              "      border-left-color: var(--fill-color);\n",
              "      border-top-color: var(--fill-color);\n",
              "    }\n",
              "    30% {\n",
              "      border-color: transparent;\n",
              "      border-left-color: var(--fill-color);\n",
              "      border-top-color: var(--fill-color);\n",
              "      border-right-color: var(--fill-color);\n",
              "    }\n",
              "    40% {\n",
              "      border-color: transparent;\n",
              "      border-right-color: var(--fill-color);\n",
              "      border-top-color: var(--fill-color);\n",
              "    }\n",
              "    60% {\n",
              "      border-color: transparent;\n",
              "      border-right-color: var(--fill-color);\n",
              "    }\n",
              "    80% {\n",
              "      border-color: transparent;\n",
              "      border-right-color: var(--fill-color);\n",
              "      border-bottom-color: var(--fill-color);\n",
              "    }\n",
              "    90% {\n",
              "      border-color: transparent;\n",
              "      border-bottom-color: var(--fill-color);\n",
              "    }\n",
              "  }\n",
              "</style>\n",
              "\n",
              "  <script>\n",
              "    async function quickchart(key) {\n",
              "      const quickchartButtonEl =\n",
              "        document.querySelector('#' + key + ' button');\n",
              "      quickchartButtonEl.disabled = true;  // To prevent multiple clicks.\n",
              "      quickchartButtonEl.classList.add('colab-df-spinner');\n",
              "      try {\n",
              "        const charts = await google.colab.kernel.invokeFunction(\n",
              "            'suggestCharts', [key], {});\n",
              "      } catch (error) {\n",
              "        console.error('Error during call to suggestCharts:', error);\n",
              "      }\n",
              "      quickchartButtonEl.classList.remove('colab-df-spinner');\n",
              "      quickchartButtonEl.classList.add('colab-df-quickchart-complete');\n",
              "    }\n",
              "    (() => {\n",
              "      let quickchartButtonEl =\n",
              "        document.querySelector('#df-5c20ffb8-9688-4e50-aab8-076b8fdb079b button');\n",
              "      quickchartButtonEl.style.display =\n",
              "        google.colab.kernel.accessAllowed ? 'block' : 'none';\n",
              "    })();\n",
              "  </script>\n",
              "</div>\n",
              "\n",
              "    </div>\n",
              "  </div>\n"
            ]
          },
          "metadata": {},
          "execution_count": 136
        }
      ]
    },
    {
      "cell_type": "markdown",
      "source": [
        "Observations:\n",
        "\n",
        "- time_spent_on_the_page: in a random sample of 100 users, the mean time spent on the web page is 5.38  minutes with 2.38 minutes standard deviation.\n",
        "\n",
        "- 50% of the users spent more than 5.42 minutes while 50% less than that.\n",
        "\n",
        "- The lowest time spent on the page is only 0.19 minutes while the maximum time reach more than 10 minutes.\n"
      ],
      "metadata": {
        "id": "M_C1OFDFFAV0"
      },
      "id": "M_C1OFDFFAV0"
    },
    {
      "cell_type": "code",
      "source": [
        "# Getting the statistical summary for the categorical variables\n",
        "r = [1,2,4,5]\n",
        "for i in r:\n",
        "  print(df.iloc[:,i].value_counts())"
      ],
      "metadata": {
        "colab": {
          "base_uri": "https://localhost:8080/"
        },
        "id": "56dd1v1DqMh4",
        "outputId": "4b2db5f6-5768-4229-e643-26c63d9596b7"
      },
      "id": "56dd1v1DqMh4",
      "execution_count": 137,
      "outputs": [
        {
          "output_type": "stream",
          "name": "stdout",
          "text": [
            "control      50\n",
            "treatment    50\n",
            "Name: group, dtype: int64\n",
            "old    50\n",
            "new    50\n",
            "Name: landing_page, dtype: int64\n",
            "yes    54\n",
            "no     46\n",
            "Name: converted, dtype: int64\n",
            "Spanish    34\n",
            "French     34\n",
            "English    32\n",
            "Name: language_preferred, dtype: int64\n"
          ]
        }
      ]
    },
    {
      "cell_type": "markdown",
      "source": [
        "Observations:\n",
        "- Group: A random sample of 100 users was taken and divided equally into two groups. The first group obtained the existing landing page (control group) and the second group obtained the new landing group (treatment).\n",
        "\n",
        "- Landing_page: There are two versions of the landing page were collected: the old landing page (50) and the new landing page (50).\n",
        "\n",
        "- Converted: 54 users get converted to a subscriber of the news portal while 46 did not.\n",
        "\n",
        "- Language_prefered: 34 of the users chose Spanish to view the landing page while 34 chose French and English was chosen by 32 users.\n"
      ],
      "metadata": {
        "id": "coGzV_IiNHO8"
      },
      "id": "coGzV_IiNHO8"
    },
    {
      "cell_type": "markdown",
      "source": [
        "### Check for missing values and duplicates"
      ],
      "metadata": {
        "id": "t_fLAnSOfRFn"
      },
      "id": "t_fLAnSOfRFn"
    },
    {
      "cell_type": "code",
      "source": [
        "# Check for missing values\n",
        "df.isnull().sum()"
      ],
      "metadata": {
        "colab": {
          "base_uri": "https://localhost:8080/"
        },
        "id": "OAq3SIZx8rBo",
        "outputId": "5100b307-7932-47bf-b98b-41bbc1dc1409"
      },
      "id": "OAq3SIZx8rBo",
      "execution_count": 138,
      "outputs": [
        {
          "output_type": "execute_result",
          "data": {
            "text/plain": [
              "user_id                   0\n",
              "group                     0\n",
              "landing_page              0\n",
              "time_spent_on_the_page    0\n",
              "converted                 0\n",
              "language_preferred        0\n",
              "dtype: int64"
            ]
          },
          "metadata": {},
          "execution_count": 138
        }
      ]
    },
    {
      "cell_type": "markdown",
      "source": [
        "- There are no missing values"
      ],
      "metadata": {
        "id": "keggxK2LXYCv"
      },
      "id": "keggxK2LXYCv"
    },
    {
      "cell_type": "code",
      "source": [
        "# Check for duplicates\n",
        "no = len(df['user_id'].unique())\n",
        "print (\"There are {} different users.\".format(no))"
      ],
      "metadata": {
        "colab": {
          "base_uri": "https://localhost:8080/"
        },
        "id": "qOzXehhe84M9",
        "outputId": "6daf2463-e1a4-4027-ccdc-a2e545eedb6a"
      },
      "id": "qOzXehhe84M9",
      "execution_count": 139,
      "outputs": [
        {
          "output_type": "stream",
          "name": "stdout",
          "text": [
            "There are 100 different users.\n"
          ]
        }
      ]
    },
    {
      "cell_type": "markdown",
      "metadata": {
        "id": "68f3b2c9"
      },
      "source": [
        "### Univariate Analysis"
      ],
      "id": "68f3b2c9"
    },
    {
      "cell_type": "markdown",
      "source": [
        "#### Groups:"
      ],
      "metadata": {
        "id": "0VZk3L5zLJal"
      },
      "id": "0VZk3L5zLJal"
    },
    {
      "cell_type": "code",
      "metadata": {
        "id": "1932d0f3",
        "colab": {
          "base_uri": "https://localhost:8080/",
          "height": 0
        },
        "outputId": "ba3e7e7f-3c95-466f-e1d9-642efdebfe6d"
      },
      "source": [
        "# Groups\n",
        "df['group'].value_counts()\n",
        "sns.countplot(data=df,x='group')\n",
        "plt.title('Bar Graph of Groups')\n",
        "plt.xlabel(\"Group\")\n",
        "plt.ylabel(\"Frequency\")\n",
        "plt.show()"
      ],
      "id": "1932d0f3",
      "execution_count": 140,
      "outputs": [
        {
          "output_type": "display_data",
          "data": {
            "text/plain": [
              "<Figure size 640x480 with 1 Axes>"
            ],
            "image/png": "[encoded data removed]"
          },
          "metadata": {}
        }
      ]
    },
    {
      "cell_type": "markdown",
      "source": [
        "Observation:\n",
        "- From the bar graph: The landing page was served to the first group (control group) with 50 users and the new landing page to the second group (treatment group) with 50 users too."
      ],
      "metadata": {
        "id": "uRVmJ2vtb-_y"
      },
      "id": "uRVmJ2vtb-_y"
    },
    {
      "cell_type": "markdown",
      "source": [
        "#### Landing_page:"
      ],
      "metadata": {
        "id": "2pwpbSarLUSw"
      },
      "id": "2pwpbSarLUSw"
    },
    {
      "cell_type": "code",
      "source": [
        "# Landing\n",
        "df['landing_page'].value_counts()\n",
        "sns.countplot(data=df,x='landing_page', color='red')\n",
        "plt.title('Bar Graph of Landing Page')\n",
        "plt.xlabel(\"Landing Page\")\n",
        "plt.ylabel(\"Frequency\")\n",
        "plt.show()"
      ],
      "metadata": {
        "colab": {
          "base_uri": "https://localhost:8080/",
          "height": 0
        },
        "id": "QKfsb1_r-nAF",
        "outputId": "c40f8858-99f6-4d2f-db2e-d542a8b48419"
      },
      "id": "QKfsb1_r-nAF",
      "execution_count": 141,
      "outputs": [
        {
          "output_type": "display_data",
          "data": {
            "text/plain": [
              "<Figure size 640x480 with 1 Axes>"
            ],
            "image/png": "[encoded data removed]"
          },
          "metadata": {}
        }
      ]
    },
    {
      "cell_type": "markdown",
      "source": [
        "Observation:\n",
        "\n",
        "-From the bar graph: There are two equal type of landing pages the existing landing page and the new landing page."
      ],
      "metadata": {
        "id": "1HdB8uQaemgF"
      },
      "id": "1HdB8uQaemgF"
    },
    {
      "cell_type": "markdown",
      "source": [
        "#### Converted:"
      ],
      "metadata": {
        "id": "6-07St6KLxGC"
      },
      "id": "6-07St6KLxGC"
    },
    {
      "cell_type": "code",
      "source": [
        "# converted\n",
        "df['converted'].value_counts()\n",
        "sns.countplot(data=df,x='converted')\n",
        "plt.title('Bar Graph of Converted')\n",
        "plt.xlabel(\"Converted\")\n",
        "plt.ylabel(\"Frequency\")\n",
        "plt.show()"
      ],
      "metadata": {
        "colab": {
          "base_uri": "https://localhost:8080/",
          "height": 0
        },
        "id": "fJmJQ5YsIxPf",
        "outputId": "78fbca1c-2499-4c18-e78c-0bc89fec8114"
      },
      "id": "fJmJQ5YsIxPf",
      "execution_count": 142,
      "outputs": [
        {
          "output_type": "display_data",
          "data": {
            "text/plain": [
              "<Figure size 640x480 with 1 Axes>"
            ],
            "image/png": "[encoded data removed]"
          },
          "metadata": {}
        }
      ]
    },
    {
      "cell_type": "markdown",
      "source": [
        "Observation:\n",
        "\n",
        "- From the bar graph: There are 56 users were converted to subscribers of the news portal and 46 did not."
      ],
      "metadata": {
        "id": "_TRIekr9fVfW"
      },
      "id": "_TRIekr9fVfW"
    },
    {
      "cell_type": "markdown",
      "source": [
        "#### Language preffered:"
      ],
      "metadata": {
        "id": "dDZe4h5QMAbF"
      },
      "id": "dDZe4h5QMAbF"
    },
    {
      "cell_type": "code",
      "source": [
        "# Language Prefered\n",
        "df['language_preferred'].value_counts()\n",
        "sns.countplot(data=df,x='language_preferred')\n",
        "plt.title('Bar Graph of Language Preferred')\n",
        "plt.xlabel(\"Languages\")\n",
        "plt.ylabel(\"Frequency\")\n",
        "plt.show()"
      ],
      "metadata": {
        "colab": {
          "base_uri": "https://localhost:8080/",
          "height": 0
        },
        "id": "CBqPQDhnJPIG",
        "outputId": "3dfde406-7b66-42ef-e779-964fe5266d54"
      },
      "id": "CBqPQDhnJPIG",
      "execution_count": 143,
      "outputs": [
        {
          "output_type": "display_data",
          "data": {
            "text/plain": [
              "<Figure size 640x480 with 1 Axes>"
            ],
            "image/png": "[encoded data removed]"
          },
          "metadata": {}
        }
      ]
    },
    {
      "cell_type": "markdown",
      "source": [
        "Observation:\n",
        "\n",
        "- From the bar graph: 34 of the users chose Spanish to view the landing page while 34 chose French and English was chosen by 32 users.\n"
      ],
      "metadata": {
        "id": "DfQQ6kndgN4S"
      },
      "id": "DfQQ6kndgN4S"
    },
    {
      "cell_type": "markdown",
      "source": [
        "#### Time_spent_on_the_page"
      ],
      "metadata": {
        "id": "rgQsXiCmMIZc"
      },
      "id": "rgQsXiCmMIZc"
    },
    {
      "cell_type": "code",
      "source": [
        "# time_spent_on_the_page\n",
        "sns.histplot(data = df, x = 'time_spent_on_the_page', kde=True)\n",
        "plt.axvline(df['time_spent_on_the_page'].mean(), color='k', linestyle='dashed', linewidth=1)\n",
        "plt.annotate('mean', (5.5, 23))\n",
        "plt.title(\"Histogram of Time spent by the user on the landing page\")\n",
        "plt.xlabel(\"Time (in minutes)\")\n",
        "plt.ylabel(\"Frequency\")\n",
        "plt.show()"
      ],
      "metadata": {
        "colab": {
          "base_uri": "https://localhost:8080/",
          "height": 0
        },
        "id": "6mp_e4uEKUXL",
        "outputId": "f6a27724-e9ac-4805-9af8-e8ae12fa980a"
      },
      "id": "6mp_e4uEKUXL",
      "execution_count": 144,
      "outputs": [
        {
          "output_type": "display_data",
          "data": {
            "text/plain": [
              "<Figure size 640x480 with 1 Axes>"
            ],
            "image/png": "[encoded data removed]"
          },
          "metadata": {}
        }
      ]
    },
    {
      "cell_type": "markdown",
      "source": [
        "Observation:\n",
        "\n",
        "- From the histogram: the distribution of time has a single peak in the middle with no skew. The distribution is symmetric around the mean which indicates that the distribution of time is Normal distribution.   "
      ],
      "metadata": {
        "id": "H005-2uCglZ7"
      },
      "id": "H005-2uCglZ7"
    },
    {
      "cell_type": "code",
      "source": [
        "sns.boxplot(data = df, x = 'time_spent_on_the_page')\n",
        "plt.title(\"Boxplot of Time spent by the user on the landing page\")\n",
        "plt.show()"
      ],
      "metadata": {
        "colab": {
          "base_uri": "https://localhost:8080/",
          "height": 0
        },
        "id": "xDI2aiSfNvZx",
        "outputId": "12ae22b5-3428-4936-b6e1-c95f5ac99a42"
      },
      "id": "xDI2aiSfNvZx",
      "execution_count": 145,
      "outputs": [
        {
          "output_type": "display_data",
          "data": {
            "text/plain": [
              "<Figure size 640x480 with 1 Axes>"
            ],
            "image/png": "[encoded data removed]"
          },
          "metadata": {}
        }
      ]
    },
    {
      "cell_type": "markdown",
      "source": [
        "Observation:\n",
        "\n",
        "- From the boxplot 50% of the users spent less than median= 5.4 minutes on the land page while 50% spent more than 5.4 minutes. The median is located in the middle and the whisker has the same size which indicates that the distribution of time is symmetric."
      ],
      "metadata": {
        "id": "-yMjkk38NZZo"
      },
      "id": "-yMjkk38NZZo"
    },
    {
      "cell_type": "markdown",
      "metadata": {
        "id": "fad2de2f"
      },
      "source": [
        "### Bivariate Analysis"
      ],
      "id": "fad2de2f"
    },
    {
      "cell_type": "markdown",
      "source": [
        "#### Landing page vs Time spent on the page"
      ],
      "metadata": {
        "id": "MfwN4JM8giCt"
      },
      "id": "MfwN4JM8giCt"
    },
    {
      "cell_type": "code",
      "metadata": {
        "id": "58e9a1d0",
        "colab": {
          "base_uri": "https://localhost:8080/",
          "height": 0
        },
        "outputId": "e9103e00-9896-4757-8dc0-bb802b788335"
      },
      "source": [
        "# Landing page vs Time spent on the page\n",
        "sns.boxplot(data = df,x = 'landing_page', y = 'time_spent_on_the_page')\n",
        "plt.title(\"Boxplot of time spent by the user on the landing page\")\n",
        "plt.xlabel(\"Type of landing page\")\n",
        "plt.ylabel(\"Time (in minutes)\")\n",
        "plt.show()"
      ],
      "id": "58e9a1d0",
      "execution_count": 146,
      "outputs": [
        {
          "output_type": "display_data",
          "data": {
            "text/plain": [
              "<Figure size 640x480 with 1 Axes>"
            ],
            "image/png": "[encoded data removed]"
          },
          "metadata": {}
        }
      ]
    },
    {
      "cell_type": "markdown",
      "source": [
        "Observations:\n",
        "\n",
        "From the boxplot of the time spent by users on the old and new landing pages:\n",
        "\n",
        "- The median of the time spent on the new page is greater than that on the old page.\n",
        "\n",
        "- The interquartile range and the range of the time is smaller for the new page though the time spent on the new pages which shows outliers on both sides.\n",
        "\n",
        "- Both data distributions seem to be symmetric since in both of them the median is located in the middle of the box and the whiskers have the same length."
      ],
      "metadata": {
        "id": "7pQh-I3jQprc"
      },
      "id": "7pQh-I3jQprc"
    },
    {
      "cell_type": "code",
      "source": [
        "print('The sample mean of the time spent on the old page is:',round(df['time_spent_on_the_page'][df['landing_page'] == 'old'].mean(),2),'with standard deviation',round(df['time_spent_on_the_page'][df['landing_page'] == 'old'].std(),2))\n",
        "print('The sample mean of the time spent on the new page is:',round(df['time_spent_on_the_page'][df['landing_page'] == 'new'].mean(),2),'with standard deviation',round(df['time_spent_on_the_page'][df['landing_page'] == 'new'].std(),2))"
      ],
      "metadata": {
        "colab": {
          "base_uri": "https://localhost:8080/"
        },
        "id": "SYbFyOXO910N",
        "outputId": "0f92a74b-ff27-4063-f075-aea79d48af31"
      },
      "id": "SYbFyOXO910N",
      "execution_count": 147,
      "outputs": [
        {
          "output_type": "stream",
          "name": "stdout",
          "text": [
            "The sample mean of the time spent on the old page is: 4.53 with standard deviation 2.58\n",
            "The sample mean of the time spent on the new page is: 6.22 with standard deviation 1.82\n"
          ]
        }
      ]
    },
    {
      "cell_type": "markdown",
      "source": [
        "### Conversion vs Time spent on the page"
      ],
      "metadata": {
        "id": "crk76EGzgorE"
      },
      "id": "crk76EGzgorE"
    },
    {
      "cell_type": "code",
      "source": [
        "sns.boxplot(data = df,x = 'converted', y = 'time_spent_on_the_page')\n",
        "plt.title(\"Boxplot of Time spent on the page vs Conversion\")\n",
        "plt.xlabel(\"conversion\")\n",
        "plt.ylabel(\"Time (in minutes)\")\n",
        "plt.show()"
      ],
      "metadata": {
        "colab": {
          "base_uri": "https://localhost:8080/",
          "height": 472
        },
        "id": "NxL3F5FzhAyn",
        "outputId": "351d8da3-843d-4096-cc8a-eb517092db05"
      },
      "id": "NxL3F5FzhAyn",
      "execution_count": 148,
      "outputs": [
        {
          "output_type": "display_data",
          "data": {
            "text/plain": [
              "<Figure size 640x480 with 1 Axes>"
            ],
            "image/png": "[encoded data removed]"
          },
          "metadata": {}
        }
      ]
    },
    {
      "cell_type": "markdown",
      "source": [
        "Observations:\n",
        "\n",
        "From the boxplot of the time spent by users vs conversion:\n",
        "\n",
        "- Those who converted to a subscriber spent more time on the page (median greater than 6 min) than who did not converted (median = 4 min).\n",
        "\n",
        "- Both data distributions seem to be skewed to the right because of the large outliers."
      ],
      "metadata": {
        "id": "uwhjTOeemIyS"
      },
      "id": "uwhjTOeemIyS"
    },
    {
      "cell_type": "markdown",
      "source": [
        "### Language preferred vs Time spent on the page"
      ],
      "metadata": {
        "id": "0FtsfuXpnwi4"
      },
      "id": "0FtsfuXpnwi4"
    },
    {
      "cell_type": "code",
      "source": [
        "sns.boxplot(data = df,x = 'language_preferred', y = 'time_spent_on_the_page')\n",
        "plt.title(\"Boxplot of Time spent on the page vs Language preferred\")\n",
        "plt.xlabel(\"Language preferred\")\n",
        "plt.ylabel(\"Time (in minutes)\")\n",
        "plt.show()"
      ],
      "metadata": {
        "colab": {
          "base_uri": "https://localhost:8080/",
          "height": 472
        },
        "id": "HSeHRi6ZnzuE",
        "outputId": "bdf448bc-65d8-4970-dbe3-af4478498ae4"
      },
      "id": "HSeHRi6ZnzuE",
      "execution_count": 149,
      "outputs": [
        {
          "output_type": "display_data",
          "data": {
            "text/plain": [
              "<Figure size 640x480 with 1 Axes>"
            ],
            "image/png": "[encoded data removed]"
          },
          "metadata": {}
        }
      ]
    },
    {
      "cell_type": "markdown",
      "source": [
        "Observations:\n",
        "\n",
        "From the boxplot of the time spent by users vs conversion:\n",
        "\n",
        "- The time spent on the page for the three preferred languages (English, Spanish, French) is very similar.\n",
        "\n",
        "- The data distributions for the three languages seem to be symmetric with a small outlier for Spanish."
      ],
      "metadata": {
        "id": "kUvRCrRXoR40"
      },
      "id": "kUvRCrRXoR40"
    },
    {
      "cell_type": "markdown",
      "source": [
        "### Relationship between conversion status, preferred language, and landing page"
      ],
      "metadata": {
        "id": "Ur3KBHIgp1-V"
      },
      "id": "Ur3KBHIgp1-V"
    },
    {
      "cell_type": "code",
      "source": [
        "sns.catplot(data = df, x = 'language_preferred', hue = 'landing_page', col = 'converted', kind = 'count');"
      ],
      "metadata": {
        "colab": {
          "base_uri": "https://localhost:8080/",
          "height": 507
        },
        "id": "F9brWik4qSYt",
        "outputId": "c5b4f4ef-8643-4516-83cf-049e2a7c80ef"
      },
      "id": "F9brWik4qSYt",
      "execution_count": 150,
      "outputs": [
        {
          "output_type": "display_data",
          "data": {
            "text/plain": [
              "<Figure size 1104.61x500 with 2 Axes>"
            ],
            "image/png": "[encoded data removed]"
          },
          "metadata": {}
        }
      ]
    },
    {
      "cell_type": "markdown",
      "source": [
        "Observations:\n",
        "\n",
        "- From the first graph, for the preferred languages (Spanish and French), The number of users who did not convert to subscribers when viewing the old landing page is greater than those who viewed the new page. In English, the difference between them is not big.\n",
        "\n",
        "- From the second graph, for the preferred languages (Spanish and French), The number of users who converted to subscribers when viewing the new landing page is greater than those who viewed the old page. In English, the difference between them is not big."
      ],
      "metadata": {
        "id": "c0vyYwD_tixM"
      },
      "id": "c0vyYwD_tixM"
    },
    {
      "cell_type": "markdown",
      "metadata": {
        "id": "27906576"
      },
      "source": [
        "## 1. Do the users spend more time on the new landing page than the existing landing page?"
      ],
      "id": "27906576"
    },
    {
      "cell_type": "markdown",
      "metadata": {
        "id": "e5fdf0c8"
      },
      "source": [
        "### Perform Visual Analysis"
      ],
      "id": "e5fdf0c8"
    },
    {
      "cell_type": "code",
      "metadata": {
        "id": "6eZJa41eg21n",
        "colab": {
          "base_uri": "https://localhost:8080/",
          "height": 0
        },
        "outputId": "abfcfde7-40fd-45e5-ed12-b80aa0bcd889"
      },
      "source": [
        "# Landing page vs Time spent on the page\n",
        "sns.boxplot(data = df,x = 'landing_page', y = 'time_spent_on_the_page')\n",
        "plt.title(\"Boxplot of Time spent by the user on the landing page\")\n",
        "plt.xlabel(\"Type of landing page\")\n",
        "plt.ylabel(\"Time (in minutes)\")\n",
        "plt.show()"
      ],
      "id": "6eZJa41eg21n",
      "execution_count": 151,
      "outputs": [
        {
          "output_type": "display_data",
          "data": {
            "text/plain": [
              "<Figure size 640x480 with 1 Axes>"
            ],
            "image/png": "[encoded data removed]"
          },
          "metadata": {}
        }
      ]
    },
    {
      "cell_type": "markdown",
      "source": [
        "Observations:\n",
        "\n",
        "From the boxplot of the time spent by users on the old and new landing pages:\n",
        "\n",
        "- The median of the time spent on the new page is greater than that on the old page.\n",
        "\n",
        "- The interquartile range and the range of the time is smaller for the new page though the time spent on the new pages shows outliers on both sides.\n",
        "\n",
        "- Both data distributions seem to be symmetric since in both of them the median is located in the middle of the box and the whiskers have the same length."
      ],
      "metadata": {
        "id": "HaM7hFoMWyhV"
      },
      "id": "HaM7hFoMWyhV"
    },
    {
      "cell_type": "markdown",
      "metadata": {
        "id": "56b3dafd"
      },
      "source": [
        "### Step 1: Define the null and alternate hypotheses"
      ],
      "id": "56b3dafd"
    },
    {
      "cell_type": "markdown",
      "metadata": {
        "id": "d2ac77ef"
      },
      "source": [
        "The null and alternative hypotheses can be formulated as:\n",
        "\n",
        "> $H_0:$ The mean of the time spent by the users on the new landing page (new) is equal to the mean of time spent by the users on the old landing page (old). <br>\n",
        "$H_a:$ The mean of the time spent by the users on the new landing page (new) is greater than the mean of time spent by the users on the old landing page (old).\n",
        "\n",
        "Let $\\mu_n$ and $\\mu_o$ be the mean of time spent by the useres on the new landing page and the mean of time spent by the useres on the old landing page respectively.\n",
        "\n",
        "Mathematically, the above formulated hypotheses can be written as:\n",
        "> $H_0: \\mu_n = \\mu_o $ <br> $H_a: \\mu_n > \\mu_o $"
      ],
      "id": "d2ac77ef"
    },
    {
      "cell_type": "markdown",
      "metadata": {
        "id": "c7ee4907"
      },
      "source": [
        "### Step 2: Select Appropriate test"
      ],
      "id": "c7ee4907"
    },
    {
      "cell_type": "markdown",
      "metadata": {
        "id": "2c183cd7"
      },
      "source": [
        "This is a case of a right-tailed test for comparing the means from two different population with unkown standard deviations. Therefore, we will use two-sample independent t-test."
      ],
      "id": "2c183cd7"
    },
    {
      "cell_type": "markdown",
      "metadata": {
        "id": "3f58c9a7"
      },
      "source": [
        "### Step 3: Decide the significance level"
      ],
      "id": "3f58c9a7"
    },
    {
      "cell_type": "markdown",
      "metadata": {
        "id": "92d7d7ee"
      },
      "source": [
        "As given in the problem statement, we select $\\alpha = 0.05$."
      ],
      "id": "92d7d7ee"
    },
    {
      "cell_type": "markdown",
      "metadata": {
        "id": "5fed2eac"
      },
      "source": [
        "### Step 4: Collect and prepare data"
      ],
      "id": "5fed2eac"
    },
    {
      "cell_type": "markdown",
      "source": [
        "#### Assumptions of two-sample independent ttest:"
      ],
      "metadata": {
        "id": "QDL025hsly-H"
      },
      "id": "QDL025hsly-H"
    },
    {
      "cell_type": "markdown",
      "source": [
        "##### Assumption One: Normality test:\n"
      ],
      "metadata": {
        "id": "auHoaCs_mkcQ"
      },
      "id": "auHoaCs_mkcQ"
    },
    {
      "cell_type": "markdown",
      "source": [
        "According to the Central Limit Therom, If the sample size increases, the distribution of the sample means tend to become a normal distribution curve.\n",
        "100 users are randomly selected and divided to two groups with size 50 (large sample) which indecate that the CLT condition is met. Thus, the distribution is Normal Distribution."
      ],
      "metadata": {
        "id": "3kaarl3enHnS"
      },
      "id": "3kaarl3enHnS"
    },
    {
      "cell_type": "markdown",
      "source": [
        "##### Assumption Two : Equality of variance:"
      ],
      "metadata": {
        "id": "9ImRx9C4qLGS"
      },
      "id": "9ImRx9C4qLGS"
    },
    {
      "cell_type": "markdown",
      "source": [
        "Let $\\sigma^2_n$ and $\\sigma^2_o$ be the variance of time spent by the users on the new landing page and the variance of time spent by the users on the old landing page respectively.\n",
        "\n",
        "Mathematically, the above formulated hypotheses can be written as:\n",
        "> $H_0: \\sigma^2_n = \\sigma^2_o $ <br>\n",
        ">$H_a: \\sigma^2_n \\neq \\sigma^2_o $"
      ],
      "metadata": {
        "id": "RyS3ZkUmq7yr"
      },
      "id": "RyS3ZkUmq7yr"
    },
    {
      "cell_type": "code",
      "source": [
        "from scipy.stats import f\n",
        "def f_test(x,y):\n",
        "  x = np.array(x)\n",
        "  y = np.array(y)\n",
        "  test = np.var(x,ddof=1)/np.var(y,ddof=1)\n",
        "  dfx = x.size-1\n",
        "  dfy = y.size-1\n",
        "  p = (1-f.cdf(test,dfx,dfy))\n",
        "  p2 = p*2\n",
        "  return(print('The p_value of equality of variance test is {}'.format(round(p2,6))))\n",
        "print('The sample variance of the time spent on the old page is:',round(df['time_spent_on_the_page'][df['landing_page'] == 'old'].var(),4))\n",
        "print('The sample variance of the time spent on the new page is:',round(df['time_spent_on_the_page'][df['landing_page'] == 'new'].var(),4))\n",
        "f_test(df['time_spent_on_the_page'][df['landing_page'] == 'old'], df['time_spent_on_the_page'][df['landing_page'] == 'new'])"
      ],
      "metadata": {
        "colab": {
          "base_uri": "https://localhost:8080/"
        },
        "id": "qLDZcaZkp70v",
        "outputId": "ce2b6f73-56bf-4b0b-a3c4-24b06d2f0fa1"
      },
      "id": "qLDZcaZkp70v",
      "execution_count": 152,
      "outputs": [
        {
          "output_type": "stream",
          "name": "stdout",
          "text": [
            "The sample variance of the time spent on the old page is: 6.6666\n",
            "The sample variance of the time spent on the new page is: 3.3016\n",
            "The p_value of equality of variance test is 0.015411\n"
          ]
        }
      ]
    },
    {
      "cell_type": "markdown",
      "source": [
        "Since the p-value=0.015411 is smaller than the level of significance α = 0.05,  then we should reject the null hypothesis H0. The decision is the variance of the two population are not equal so we should use two independent ttest for unequal variance."
      ],
      "metadata": {
        "id": "K_6Y8fDA0ds3"
      },
      "id": "K_6Y8fDA0ds3"
    },
    {
      "cell_type": "markdown",
      "metadata": {
        "id": "f5c5258d"
      },
      "source": [
        "### Step 5: Calculate the p-value"
      ],
      "id": "f5c5258d"
    },
    {
      "cell_type": "code",
      "metadata": {
        "id": "fac8594a",
        "colab": {
          "base_uri": "https://localhost:8080/"
        },
        "outputId": "ca768433-509d-493e-dc9d-1e6339c7ba0c"
      },
      "source": [
        "# ttest equality of means (unequal sdv)\n",
        "from scipy.stats import ttest_ind\n",
        "test, p_value = ttest_ind(df['time_spent_on_the_page'][df['landing_page'] == 'new'],\n",
        "                          df['time_spent_on_the_page'][df['landing_page'] == 'old'],\n",
        "                          equal_var = False,\n",
        "                          alternative = 'greater')\n",
        "print('The test value is {} and the P_value is {}'.format(test,p_value))"
      ],
      "id": "fac8594a",
      "execution_count": 153,
      "outputs": [
        {
          "output_type": "stream",
          "name": "stdout",
          "text": [
            "The test value is 3.7867702694199856 and the P_value is 0.0001392381225166549\n"
          ]
        }
      ]
    },
    {
      "cell_type": "markdown",
      "metadata": {
        "id": "359b12f8"
      },
      "source": [
        "### Step 6: Compare the p-value with $\\alpha$\n",
        "\n",
        "\n",
        "\n"
      ],
      "id": "359b12f8"
    },
    {
      "cell_type": "code",
      "metadata": {
        "id": "7be47289",
        "colab": {
          "base_uri": "https://localhost:8080/"
        },
        "outputId": "43aa959e-bc7c-421c-cc7c-5be6bccfc225"
      },
      "source": [
        "# print the conclusion based on p-value\n",
        "if p_value < 0.05:\n",
        "    print('Since the p-value {} is less than the level of significance, we reject the null hypothesis.'.format(p_value))\n",
        "else:\n",
        "    print('Since the p-value {} is greater than the level of significance, we fail to reject the null hypothesis.'.format(pvalue))"
      ],
      "id": "7be47289",
      "execution_count": 154,
      "outputs": [
        {
          "output_type": "stream",
          "name": "stdout",
          "text": [
            "Since the p-value 0.0001392381225166549 is less than the level of significance, we reject the null hypothesis.\n"
          ]
        }
      ]
    },
    {
      "cell_type": "markdown",
      "metadata": {
        "id": "d9affc84"
      },
      "source": [
        "### Step 7:  Draw inference"
      ],
      "id": "d9affc84"
    },
    {
      "cell_type": "markdown",
      "metadata": {
        "id": "6b16dd4b"
      },
      "source": [
        "At 5% significance level, we reject the null hypothesis. Hence we have enough statistical evidence to support the claim that the users spend more time on the new landing page than on the existing landing page."
      ],
      "id": "6b16dd4b"
    },
    {
      "cell_type": "markdown",
      "metadata": {
        "id": "1ad0823a"
      },
      "source": [
        "**A similar approach can be followed to answer the other questions.**"
      ],
      "id": "1ad0823a"
    },
    {
      "cell_type": "markdown",
      "metadata": {
        "id": "353e9d24"
      },
      "source": [
        "## 2. Is the conversion rate (the proportion of users who visit the landing page and get converted) for the new page greater than the conversion rate for the old page?"
      ],
      "id": "353e9d24"
    },
    {
      "cell_type": "markdown",
      "source": [
        "### Perform Visual Analysis"
      ],
      "metadata": {
        "id": "betjXx8_ACYL"
      },
      "id": "betjXx8_ACYL"
    },
    {
      "cell_type": "code",
      "metadata": {
        "id": "b7f52898",
        "colab": {
          "base_uri": "https://localhost:8080/",
          "height": 0
        },
        "outputId": "b1046b10-80e9-43e8-e9c3-9e02c4517eea"
      },
      "source": [
        "pd.crosstab(df['landing_page'],df['converted']).plot(kind='bar')\n",
        "plt.legend()\n",
        "plt.show()"
      ],
      "id": "b7f52898",
      "execution_count": 155,
      "outputs": [
        {
          "output_type": "display_data",
          "data": {
            "text/plain": [
              "<Figure size 640x480 with 1 Axes>"
            ],
            "image/png": "[encoded data removed]"
          },
          "metadata": {}
        }
      ]
    },
    {
      "cell_type": "markdown",
      "source": [
        "Observations:\n",
        "\n",
        "From the bar chart:\n",
        "\n",
        "- the new landing page was served to 50 users, about 33 of them converted while the existing landing page was served to 50 users only 21 of them converted."
      ],
      "metadata": {
        "id": "zKIE3YQXn-MY"
      },
      "id": "zKIE3YQXn-MY"
    },
    {
      "cell_type": "markdown",
      "source": [],
      "metadata": {
        "id": "ur39gDL6sHUz"
      },
      "id": "ur39gDL6sHUz"
    },
    {
      "cell_type": "markdown",
      "source": [
        "### Step 1: Define the null and alternate hypotheses"
      ],
      "metadata": {
        "id": "c3wH_b0nC3IQ"
      },
      "id": "c3wH_b0nC3IQ"
    },
    {
      "cell_type": "markdown",
      "source": [
        "The null and alternative hypotheses can be formulated as:\n",
        "\n",
        "> $H_0:$  The conversion rate (the proportion of users who visit the landing page and get converted) for the new page equal to the conversion rate for the old page.\n",
        "<br>\n",
        ">$H_a:$  The conversion rate (the proportion of users who visit the landing page and get converted) for the new page greater than the conversion rate for the old page.\n",
        "\n",
        "Let $P_n$ and $P_o$ be the the conversion rate for the new page and the conversion rate for the old page respectively.\n",
        "\n",
        "Mathematically, the above formulated hypotheses can be written as:\n",
        ">$H_0: P_n = P_o $ <br>\n",
        ">$H_a: P_n > P_o $"
      ],
      "metadata": {
        "id": "YLEtxvFqJlBh"
      },
      "id": "YLEtxvFqJlBh"
    },
    {
      "cell_type": "markdown",
      "source": [
        "### Step 2: Select Appropriate test"
      ],
      "metadata": {
        "id": "QlhjXMM0aDU6"
      },
      "id": "QlhjXMM0aDU6"
    },
    {
      "cell_type": "markdown",
      "source": [
        "This is a case of a right-tailed test for comparing the proportion from two different population.Therefore, we will use two-proportion Z-test."
      ],
      "metadata": {
        "id": "0p9dxTeaaHn-"
      },
      "id": "0p9dxTeaaHn-"
    },
    {
      "cell_type": "markdown",
      "source": [
        "### Step 3: Decide the significance level"
      ],
      "metadata": {
        "id": "99Yvq-UKazXz"
      },
      "id": "99Yvq-UKazXz"
    },
    {
      "cell_type": "markdown",
      "source": [
        "As given in the problem statement, we select $\\alpha = 0.05$."
      ],
      "metadata": {
        "id": "TlhrGGxucPvD"
      },
      "id": "TlhrGGxucPvD"
    },
    {
      "cell_type": "markdown",
      "source": [
        "### Step 4: Collect and prepare data"
      ],
      "metadata": {
        "id": "3WOSnHZDbCGj"
      },
      "id": "3WOSnHZDbCGj"
    },
    {
      "cell_type": "code",
      "source": [
        "oldpage_converted = len(df[(df['converted']== 'yes') & (df['landing_page'] == 'old')])\n",
        "newpage_converted = len(df[(df['converted']== 'yes') & (df['landing_page'] == 'new')])\n",
        "\n",
        "oldpage_count = len(df[df['landing_page'] == 'old'])\n",
        "newpage_count = len(df[df['landing_page'] == 'new'])\n",
        "\n",
        "newpage_proportion = newpage_converted / newpage_count\n",
        "oldpage_proprtion = oldpage_converted / oldpage_count\n",
        "\n",
        "print('The conversion rate for the old page is {0} and the conversion rate for the new page is {1}'.format(oldpage_proprtion, newpage_proportion ))"
      ],
      "metadata": {
        "colab": {
          "base_uri": "https://localhost:8080/"
        },
        "id": "P4tr5PJzikR3",
        "outputId": "354c2e4e-d626-4198-f6ba-b2d415b022d2"
      },
      "id": "P4tr5PJzikR3",
      "execution_count": 156,
      "outputs": [
        {
          "output_type": "stream",
          "name": "stdout",
          "text": [
            "The conversion rate for the old page is 0.42 and the conversion rate for the new page is 0.66\n"
          ]
        }
      ]
    },
    {
      "cell_type": "markdown",
      "source": [
        "All the assumptions for ztest for two proportion are met\n",
        "1. The samples must be random samples.\n",
        "2. The sample data are independent of one another.\n",
        "3. For both samples np >= 10 and nq >= 10."
      ],
      "metadata": {
        "id": "K7fyJhmJcYLb"
      },
      "id": "K7fyJhmJcYLb"
    },
    {
      "cell_type": "markdown",
      "source": [
        "### Step 5: Calculate the p-value"
      ],
      "metadata": {
        "id": "RkO8JYiLbSrz"
      },
      "id": "RkO8JYiLbSrz"
    },
    {
      "cell_type": "code",
      "source": [
        "from statsmodels.stats.proportion import proportions_ztest\n",
        "test, p_value = proportions_ztest([newpage_converted,oldpage_converted],[newpage_count,oldpage_count])\n",
        "print('The test value is {} and the P_value is {}'.format(test,p_value))"
      ],
      "metadata": {
        "colab": {
          "base_uri": "https://localhost:8080/"
        },
        "id": "HVEXaZS7DMqy",
        "outputId": "3de4050d-fa19-4ff3-be4f-eab9f0f7950a"
      },
      "id": "HVEXaZS7DMqy",
      "execution_count": 157,
      "outputs": [
        {
          "output_type": "stream",
          "name": "stdout",
          "text": [
            "The test value is 2.4077170617153842 and the P_value is 0.016052616408112556\n"
          ]
        }
      ]
    },
    {
      "cell_type": "markdown",
      "source": [
        "### Step 6: Compare the p-value with $\\alpha$"
      ],
      "metadata": {
        "id": "FhwDv5MxbWTv"
      },
      "id": "FhwDv5MxbWTv"
    },
    {
      "cell_type": "code",
      "source": [
        "# print the conclusion based on p-value\n",
        "if p_value < 0.05:\n",
        "    print('Since the p-value {} is less than the level of significance, we reject the null hypothesis.'.format(p_value))\n",
        "else:\n",
        "    print('Since the p-value {} is greater than the level of significance, we fail to reject the null hypothesis.'.format(p_value))"
      ],
      "metadata": {
        "colab": {
          "base_uri": "https://localhost:8080/"
        },
        "id": "kbXta4qvFTSw",
        "outputId": "ef6d9cae-d037-4b02-e80b-5b31767d1151"
      },
      "id": "kbXta4qvFTSw",
      "execution_count": 158,
      "outputs": [
        {
          "output_type": "stream",
          "name": "stdout",
          "text": [
            "Since the p-value 0.016052616408112556 is less than the level of significance, we reject the null hypothesis.\n"
          ]
        }
      ]
    },
    {
      "cell_type": "markdown",
      "source": [
        "### Step 7:  Draw inference"
      ],
      "metadata": {
        "id": "Rt8o8z2zbkj7"
      },
      "id": "Rt8o8z2zbkj7"
    },
    {
      "cell_type": "markdown",
      "source": [
        "As the p-value is less than the significance level 0.05, we have enough statistical evidence to reject the null hypothesis. Thus, the conversion rate (the proportion of users who visit the landing page and get converted) for the new page is greater than the conversion rate for the old page."
      ],
      "metadata": {
        "id": "GzbjRzcybkr3"
      },
      "id": "GzbjRzcybkr3"
    },
    {
      "cell_type": "markdown",
      "metadata": {
        "id": "d49bfa2d"
      },
      "source": [
        "## 3. Is the conversion and preferred language are independent or related?"
      ],
      "id": "d49bfa2d"
    },
    {
      "cell_type": "markdown",
      "source": [
        "### Perform Visual Analysis"
      ],
      "metadata": {
        "id": "sALwiqcIhRo2"
      },
      "id": "sALwiqcIhRo2"
    },
    {
      "cell_type": "code",
      "metadata": {
        "id": "b0e63f17",
        "colab": {
          "base_uri": "https://localhost:8080/",
          "height": 0
        },
        "outputId": "6cef3c9f-6463-4a63-dc58-0f1235a127c3"
      },
      "source": [
        "pd.crosstab(df['converted'],df['language_preferred']).plot(kind='bar',stacked=True)\n",
        "plt.legend()\n",
        "plt.show()"
      ],
      "id": "b0e63f17",
      "execution_count": 159,
      "outputs": [
        {
          "output_type": "display_data",
          "data": {
            "text/plain": [
              "<Figure size 640x480 with 1 Axes>"
            ],
            "image/png": "[encoded data removed]"
          },
          "metadata": {}
        }
      ]
    },
    {
      "cell_type": "markdown",
      "source": [
        "Obeservations:\n",
        "\n",
        "From the stacked bar chart:\n",
        "\n",
        "- The number of users who preferred Spanish language and converted is similar to the number of users who did not convert. In French language, the number of users who converted is larger than who did not. In contrast, the number of users who did not convert and preffered English is larger."
      ],
      "metadata": {
        "id": "9QLHFO7G2H6o"
      },
      "id": "9QLHFO7G2H6o"
    },
    {
      "cell_type": "markdown",
      "source": [
        "### Step 1: Define the null and alternate hypotheses"
      ],
      "metadata": {
        "id": "-TD3zi4GDUHd"
      },
      "id": "-TD3zi4GDUHd"
    },
    {
      "cell_type": "markdown",
      "source": [
        "\n",
        ">$H_0:$ The conversion and preferred language are independent.\n",
        "\n",
        ">$H_a:$ The conversion and preferred language are not independent."
      ],
      "metadata": {
        "id": "-e7msgT77c57"
      },
      "id": "-e7msgT77c57"
    },
    {
      "cell_type": "markdown",
      "source": [
        "### Step 2: Select Appropriate test"
      ],
      "metadata": {
        "id": "JSbCdY0jhfya"
      },
      "id": "JSbCdY0jhfya"
    },
    {
      "cell_type": "markdown",
      "source": [
        "We have independence test for two categorical variables. Then, we should use chi square for independence."
      ],
      "metadata": {
        "id": "EEfqfjMW9TxW"
      },
      "id": "EEfqfjMW9TxW"
    },
    {
      "cell_type": "markdown",
      "source": [
        "### Step 3: Decide the significance level"
      ],
      "metadata": {
        "id": "9FJCeilshptC"
      },
      "id": "9FJCeilshptC"
    },
    {
      "cell_type": "markdown",
      "source": [
        "As given in the problem statement, we select  α=0.05 ."
      ],
      "metadata": {
        "id": "NN-JSX1WCNFa"
      },
      "id": "NN-JSX1WCNFa"
    },
    {
      "cell_type": "markdown",
      "source": [
        "### Step 4: Collect and prepare data"
      ],
      "metadata": {
        "id": "cszYKcH30XhN"
      },
      "id": "cszYKcH30XhN"
    },
    {
      "cell_type": "code",
      "source": [
        "table = pd.crosstab(df['converted'],df['language_preferred'])\n",
        "table"
      ],
      "metadata": {
        "colab": {
          "base_uri": "https://localhost:8080/",
          "height": 0
        },
        "id": "2TnIfcHLCPof",
        "outputId": "2af3d3c9-7c12-4934-e351-776cee5fda85"
      },
      "id": "2TnIfcHLCPof",
      "execution_count": 160,
      "outputs": [
        {
          "output_type": "execute_result",
          "data": {
            "text/plain": [
              "language_preferred  English  French  Spanish\n",
              "converted                                   \n",
              "no                       11      19       16\n",
              "yes                      21      15       18"
            ],
            "text/html": [
              "\n",
              "  <div id=\"df-8eca9f43-c4bb-44c7-92c9-30cc8c9e2118\" class=\"colab-df-container\">\n",
              "    <div>\n",
              "<style scoped>\n",
              "    .dataframe tbody tr th:only-of-type {\n",
              "        vertical-align: middle;\n",
              "    }\n",
              "\n",
              "    .dataframe tbody tr th {\n",
              "        vertical-align: top;\n",
              "    }\n",
              "\n",
              "    .dataframe thead th {\n",
              "        text-align: right;\n",
              "    }\n",
              "</style>\n",
              "<table border=\"1\" class=\"dataframe\">\n",
              "  <thead>\n",
              "    <tr style=\"text-align: right;\">\n",
              "      <th>language_preferred</th>\n",
              "      <th>English</th>\n",
              "      <th>French</th>\n",
              "      <th>Spanish</th>\n",
              "    </tr>\n",
              "    <tr>\n",
              "      <th>converted</th>\n",
              "      <th></th>\n",
              "      <th></th>\n",
              "      <th></th>\n",
              "    </tr>\n",
              "  </thead>\n",
              "  <tbody>\n",
              "    <tr>\n",
              "      <th>no</th>\n",
              "      <td>11</td>\n",
              "      <td>19</td>\n",
              "      <td>16</td>\n",
              "    </tr>\n",
              "    <tr>\n",
              "      <th>yes</th>\n",
              "      <td>21</td>\n",
              "      <td>15</td>\n",
              "      <td>18</td>\n",
              "    </tr>\n",
              "  </tbody>\n",
              "</table>\n",
              "</div>\n",
              "    <div class=\"colab-df-buttons\">\n",
              "\n",
              "  <div class=\"colab-df-container\">\n",
              "    <button class=\"colab-df-convert\" onclick=\"convertToInteractive('df-8eca9f43-c4bb-44c7-92c9-30cc8c9e2118')\"\n",
              "            title=\"Convert this dataframe to an interactive table.\"\n",
              "            style=\"display:none;\">\n",
              "\n",
              "  <svg xmlns=\"http://www.w3.org/2000/svg\" height=\"24px\" viewBox=\"0 -960 960 960\">\n",
              "    <path d=\"M120-120v-720h720v720H120Zm60-500h600v-160H180v160Zm220 220h160v-160H400v160Zm0 220h160v-160H400v160ZM180-400h160v-160H180v160Zm440 0h160v-160H620v160ZM180-180h160v-160H180v160Zm440 0h160v-160H620v160Z\"/>\n",
              "  </svg>\n",
              "    </button>\n",
              "\n",
              "  <style>\n",
              "    .colab-df-container {\n",
              "      display:flex;\n",
              "      gap: 12px;\n",
              "    }\n",
              "\n",
              "    .colab-df-convert {\n",
              "      background-color: #E8F0FE;\n",
              "      border: none;\n",
              "      border-radius: 50%;\n",
              "      cursor: pointer;\n",
              "      display: none;\n",
              "      fill: #1967D2;\n",
              "      height: 32px;\n",
              "      padding: 0 0 0 0;\n",
              "      width: 32px;\n",
              "    }\n",
              "\n",
              "    .colab-df-convert:hover {\n",
              "      background-color: #E2EBFA;\n",
              "      box-shadow: 0px 1px 2px rgba(60, 64, 67, 0.3), 0px 1px 3px 1px rgba(60, 64, 67, 0.15);\n",
              "      fill: #174EA6;\n",
              "    }\n",
              "\n",
              "    .colab-df-buttons div {\n",
              "      margin-bottom: 4px;\n",
              "    }\n",
              "\n",
              "    [theme=dark] .colab-df-convert {\n",
              "      background-color: #3B4455;\n",
              "      fill: #D2E3FC;\n",
              "    }\n",
              "\n",
              "    [theme=dark] .colab-df-convert:hover {\n",
              "      background-color: #434B5C;\n",
              "      box-shadow: 0px 1px 3px 1px rgba(0, 0, 0, 0.15);\n",
              "      filter: drop-shadow(0px 1px 2px rgba(0, 0, 0, 0.3));\n",
              "      fill: #FFFFFF;\n",
              "    }\n",
              "  </style>\n",
              "\n",
              "    <script>\n",
              "      const buttonEl =\n",
              "        document.querySelector('#df-8eca9f43-c4bb-44c7-92c9-30cc8c9e2118 button.colab-df-convert');\n",
              "      buttonEl.style.display =\n",
              "        google.colab.kernel.accessAllowed ? 'block' : 'none';\n",
              "\n",
              "      async function convertToInteractive(key) {\n",
              "        const element = document.querySelector('#df-8eca9f43-c4bb-44c7-92c9-30cc8c9e2118');\n",
              "        const dataTable =\n",
              "          await google.colab.kernel.invokeFunction('convertToInteractive',\n",
              "                                                    [key], {});\n",
              "        if (!dataTable) return;\n",
              "\n",
              "        const docLinkHtml = 'Like what you see? Visit the ' +\n",
              "          '<a target=\"_blank\" href=https://colab.research.google.com/notebooks/data_table.ipynb>data table notebook</a>'\n",
              "          + ' to learn more about interactive tables.';\n",
              "        element.innerHTML = '';\n",
              "        dataTable['output_type'] = 'display_data';\n",
              "        await google.colab.output.renderOutput(dataTable, element);\n",
              "        const docLink = document.createElement('div');\n",
              "        docLink.innerHTML = docLinkHtml;\n",
              "        element.appendChild(docLink);\n",
              "      }\n",
              "    </script>\n",
              "  </div>\n",
              "\n",
              "\n",
              "<div id=\"df-0dfd668a-ae11-41bb-8cc3-c57cff26b198\">\n",
              "  <button class=\"colab-df-quickchart\" onclick=\"quickchart('df-0dfd668a-ae11-41bb-8cc3-c57cff26b198')\"\n",
              "            title=\"Suggest charts\"\n",
              "            style=\"display:none;\">\n",
              "\n",
              "<svg xmlns=\"http://www.w3.org/2000/svg\" height=\"24px\"viewBox=\"0 0 24 24\"\n",
              "     width=\"24px\">\n",
              "    <g>\n",
              "        <path d=\"M19 3H5c-1.1 0-2 .9-2 2v14c0 1.1.9 2 2 2h14c1.1 0 2-.9 2-2V5c0-1.1-.9-2-2-2zM9 17H7v-7h2v7zm4 0h-2V7h2v10zm4 0h-2v-4h2v4z\"/>\n",
              "    </g>\n",
              "</svg>\n",
              "  </button>\n",
              "\n",
              "<style>\n",
              "  .colab-df-quickchart {\n",
              "      --bg-color: #E8F0FE;\n",
              "      --fill-color: #1967D2;\n",
              "      --hover-bg-color: #E2EBFA;\n",
              "      --hover-fill-color: #174EA6;\n",
              "      --disabled-fill-color: #AAA;\n",
              "      --disabled-bg-color: #DDD;\n",
              "  }\n",
              "\n",
              "  [theme=dark] .colab-df-quickchart {\n",
              "      --bg-color: #3B4455;\n",
              "      --fill-color: #D2E3FC;\n",
              "      --hover-bg-color: #434B5C;\n",
              "      --hover-fill-color: #FFFFFF;\n",
              "      --disabled-bg-color: #3B4455;\n",
              "      --disabled-fill-color: #666;\n",
              "  }\n",
              "\n",
              "  .colab-df-quickchart {\n",
              "    background-color: var(--bg-color);\n",
              "    border: none;\n",
              "    border-radius: 50%;\n",
              "    cursor: pointer;\n",
              "    display: none;\n",
              "    fill: var(--fill-color);\n",
              "    height: 32px;\n",
              "    padding: 0;\n",
              "    width: 32px;\n",
              "  }\n",
              "\n",
              "  .colab-df-quickchart:hover {\n",
              "    background-color: var(--hover-bg-color);\n",
              "    box-shadow: 0 1px 2px rgba(60, 64, 67, 0.3), 0 1px 3px 1px rgba(60, 64, 67, 0.15);\n",
              "    fill: var(--button-hover-fill-color);\n",
              "  }\n",
              "\n",
              "  .colab-df-quickchart-complete:disabled,\n",
              "  .colab-df-quickchart-complete:disabled:hover {\n",
              "    background-color: var(--disabled-bg-color);\n",
              "    fill: var(--disabled-fill-color);\n",
              "    box-shadow: none;\n",
              "  }\n",
              "\n",
              "  .colab-df-spinner {\n",
              "    border: 2px solid var(--fill-color);\n",
              "    border-color: transparent;\n",
              "    border-bottom-color: var(--fill-color);\n",
              "    animation:\n",
              "      spin 1s steps(1) infinite;\n",
              "  }\n",
              "\n",
              "  @keyframes spin {\n",
              "    0% {\n",
              "      border-color: transparent;\n",
              "      border-bottom-color: var(--fill-color);\n",
              "      border-left-color: var(--fill-color);\n",
              "    }\n",
              "    20% {\n",
              "      border-color: transparent;\n",
              "      border-left-color: var(--fill-color);\n",
              "      border-top-color: var(--fill-color);\n",
              "    }\n",
              "    30% {\n",
              "      border-color: transparent;\n",
              "      border-left-color: var(--fill-color);\n",
              "      border-top-color: var(--fill-color);\n",
              "      border-right-color: var(--fill-color);\n",
              "    }\n",
              "    40% {\n",
              "      border-color: transparent;\n",
              "      border-right-color: var(--fill-color);\n",
              "      border-top-color: var(--fill-color);\n",
              "    }\n",
              "    60% {\n",
              "      border-color: transparent;\n",
              "      border-right-color: var(--fill-color);\n",
              "    }\n",
              "    80% {\n",
              "      border-color: transparent;\n",
              "      border-right-color: var(--fill-color);\n",
              "      border-bottom-color: var(--fill-color);\n",
              "    }\n",
              "    90% {\n",
              "      border-color: transparent;\n",
              "      border-bottom-color: var(--fill-color);\n",
              "    }\n",
              "  }\n",
              "</style>\n",
              "\n",
              "  <script>\n",
              "    async function quickchart(key) {\n",
              "      const quickchartButtonEl =\n",
              "        document.querySelector('#' + key + ' button');\n",
              "      quickchartButtonEl.disabled = true;  // To prevent multiple clicks.\n",
              "      quickchartButtonEl.classList.add('colab-df-spinner');\n",
              "      try {\n",
              "        const charts = await google.colab.kernel.invokeFunction(\n",
              "            'suggestCharts', [key], {});\n",
              "      } catch (error) {\n",
              "        console.error('Error during call to suggestCharts:', error);\n",
              "      }\n",
              "      quickchartButtonEl.classList.remove('colab-df-spinner');\n",
              "      quickchartButtonEl.classList.add('colab-df-quickchart-complete');\n",
              "    }\n",
              "    (() => {\n",
              "      let quickchartButtonEl =\n",
              "        document.querySelector('#df-0dfd668a-ae11-41bb-8cc3-c57cff26b198 button');\n",
              "      quickchartButtonEl.style.display =\n",
              "        google.colab.kernel.accessAllowed ? 'block' : 'none';\n",
              "    })();\n",
              "  </script>\n",
              "</div>\n",
              "\n",
              "  <div id=\"id_2a6eca3d-2cf9-4635-bbb4-6ba1cb7770b0\">\n",
              "    <style>\n",
              "      .colab-df-generate {\n",
              "        background-color: #E8F0FE;\n",
              "        border: none;\n",
              "        border-radius: 50%;\n",
              "        cursor: pointer;\n",
              "        display: none;\n",
              "        fill: #1967D2;\n",
              "        height: 32px;\n",
              "        padding: 0 0 0 0;\n",
              "        width: 32px;\n",
              "      }\n",
              "\n",
              "      .colab-df-generate:hover {\n",
              "        background-color: #E2EBFA;\n",
              "        box-shadow: 0px 1px 2px rgba(60, 64, 67, 0.3), 0px 1px 3px 1px rgba(60, 64, 67, 0.15);\n",
              "        fill: #174EA6;\n",
              "      }\n",
              "\n",
              "      [theme=dark] .colab-df-generate {\n",
              "        background-color: #3B4455;\n",
              "        fill: #D2E3FC;\n",
              "      }\n",
              "\n",
              "      [theme=dark] .colab-df-generate:hover {\n",
              "        background-color: #434B5C;\n",
              "        box-shadow: 0px 1px 3px 1px rgba(0, 0, 0, 0.15);\n",
              "        filter: drop-shadow(0px 1px 2px rgba(0, 0, 0, 0.3));\n",
              "        fill: #FFFFFF;\n",
              "      }\n",
              "    </style>\n",
              "    <button class=\"colab-df-generate\" onclick=\"generateWithVariable('table')\"\n",
              "            title=\"Generate code using this dataframe.\"\n",
              "            style=\"display:none;\">\n",
              "\n",
              "  <svg xmlns=\"http://www.w3.org/2000/svg\" height=\"24px\"viewBox=\"0 0 24 24\"\n",
              "       width=\"24px\">\n",
              "    <path d=\"M7,19H8.4L18.45,9,17,7.55,7,17.6ZM5,21V16.75L18.45,3.32a2,2,0,0,1,2.83,0l1.4,1.43a1.91,1.91,0,0,1,.58,1.4,1.91,1.91,0,0,1-.58,1.4L9.25,21ZM18.45,9,17,7.55Zm-12,3A5.31,5.31,0,0,0,4.9,8.1,5.31,5.31,0,0,0,1,6.5,5.31,5.31,0,0,0,4.9,4.9,5.31,5.31,0,0,0,6.5,1,5.31,5.31,0,0,0,8.1,4.9,5.31,5.31,0,0,0,12,6.5,5.46,5.46,0,0,0,6.5,12Z\"/>\n",
              "  </svg>\n",
              "    </button>\n",
              "    <script>\n",
              "      (() => {\n",
              "      const buttonEl =\n",
              "        document.querySelector('#id_2a6eca3d-2cf9-4635-bbb4-6ba1cb7770b0 button.colab-df-generate');\n",
              "      buttonEl.style.display =\n",
              "        google.colab.kernel.accessAllowed ? 'block' : 'none';\n",
              "\n",
              "      buttonEl.onclick = () => {\n",
              "        google.colab.notebook.generateWithVariable('table');\n",
              "      }\n",
              "      })();\n",
              "    </script>\n",
              "  </div>\n",
              "\n",
              "    </div>\n",
              "  </div>\n"
            ]
          },
          "metadata": {},
          "execution_count": 160
        }
      ]
    },
    {
      "cell_type": "markdown",
      "source": [
        "All the assumptions for chi square for independence are met\n",
        "1. The data are obtained from random samples.\n",
        "2. The number of observations in each level is greater than 5."
      ],
      "metadata": {
        "id": "JqNatTXkDycR"
      },
      "id": "JqNatTXkDycR"
    },
    {
      "cell_type": "markdown",
      "source": [
        "### Step 5: Calculate the p-value"
      ],
      "metadata": {
        "id": "IbYX5uhA0us7"
      },
      "id": "IbYX5uhA0us7"
    },
    {
      "cell_type": "code",
      "source": [
        "from scipy.stats import chi2_contingency\n",
        "test, pvalue, dof, expected = chi2_contingency(table)\n",
        "print('The test value is {} and the P_value is {}'.format(test,pvalue))"
      ],
      "metadata": {
        "colab": {
          "base_uri": "https://localhost:8080/"
        },
        "id": "bHJydxd3E2dC",
        "outputId": "b937a96b-b78a-4e4b-a81d-3ae4add155c1"
      },
      "id": "bHJydxd3E2dC",
      "execution_count": 161,
      "outputs": [
        {
          "output_type": "stream",
          "name": "stdout",
          "text": [
            "The test value is 3.0930306905370837 and the P_value is 0.21298887487543447\n"
          ]
        }
      ]
    },
    {
      "cell_type": "markdown",
      "source": [
        "### Step 6: Compare the p-value with $\\alpha$\n"
      ],
      "metadata": {
        "id": "PK0c9C4U0vJd"
      },
      "id": "PK0c9C4U0vJd"
    },
    {
      "cell_type": "code",
      "source": [
        "# print the conclusion based on p-value\n",
        "if pvalue < 0.05:\n",
        "    print('Since the p-value {} is less than the level of significance, we reject the null hypothesis.'.format(pvalue))\n",
        "else:\n",
        "    print('Since the p-value {} is greater than the level of significance, we fail to reject the null hypothesis.'.format(pvalue))"
      ],
      "metadata": {
        "colab": {
          "base_uri": "https://localhost:8080/"
        },
        "id": "jTt3LkE3HkWW",
        "outputId": "4539431c-2be9-445f-fa52-ddb6373f7092"
      },
      "id": "jTt3LkE3HkWW",
      "execution_count": 162,
      "outputs": [
        {
          "output_type": "stream",
          "name": "stdout",
          "text": [
            "Since the p-value 0.21298887487543447 is greater than the level of significance, we fail to reject the null hypothesis.\n"
          ]
        }
      ]
    },
    {
      "cell_type": "markdown",
      "source": [
        "### Step 7:  Draw inference"
      ],
      "metadata": {
        "id": "dk76JpAr0vUk"
      },
      "id": "dk76JpAr0vUk"
    },
    {
      "cell_type": "markdown",
      "source": [
        "As the p-value is greater than the significance level 0.05, we dont have enough statistical evidence to reject the null hypothesis. Thus, the conversion and preferred language are independent"
      ],
      "metadata": {
        "id": "hABvN1ibHoxZ"
      },
      "id": "hABvN1ibHoxZ"
    },
    {
      "cell_type": "markdown",
      "metadata": {
        "id": "8d585a90"
      },
      "source": [
        "## 4. Is the time spent on the new page same for the different language users?"
      ],
      "id": "8d585a90"
    },
    {
      "cell_type": "markdown",
      "source": [
        "### Perform Visual Analysis"
      ],
      "metadata": {
        "id": "sm0NGaa7Ikia"
      },
      "id": "sm0NGaa7Ikia"
    },
    {
      "cell_type": "code",
      "source": [
        "# Language vs Time spent on the page\n",
        "new = df[df['landing_page'] == 'new']\n",
        "fig, ax = plt.subplots(figsize=(6,6))\n",
        "sns.boxplot(data = new, x = 'language_preferred', y = 'time_spent_on_the_page')\n",
        "plt.title(\"Boxplot of Time spent by the user on the new page\")\n",
        "plt.xlabel(\"language preferred\")\n",
        "plt.ylabel(\"Time (in minutes)\")\n",
        "plt.show()"
      ],
      "metadata": {
        "colab": {
          "base_uri": "https://localhost:8080/",
          "height": 0
        },
        "id": "Qu6jjWcnOXMf",
        "outputId": "34abf85e-3332-4545-bf5a-df8ad2de5c6b"
      },
      "id": "Qu6jjWcnOXMf",
      "execution_count": 163,
      "outputs": [
        {
          "output_type": "display_data",
          "data": {
            "text/plain": [
              "<Figure size 600x600 with 1 Axes>"
            ],
            "image/png": "[encoded data removed]"
          },
          "metadata": {}
        }
      ]
    },
    {
      "cell_type": "markdown",
      "source": [
        "Observations:\n",
        "\n",
        "From the boxplot of the time spent by users on the new landing pages for the different languages:\n",
        "\n",
        "- The median of the time spent on the new page has the greatest value for the English users (about 7 min), and around 6 min for French users while the lowest value 5 min for Spanish.\n",
        "\n",
        "- The interquartile range of the time for English is about 7 min and for Spanish is around 6 min while the French is less than 6 min.\n",
        "\n",
        "- Data distributions for English and French seem to be skewed to the right and the french has a large outliers, while the distribution of Spanish seem to be skewed to the left and there are small outliers."
      ],
      "metadata": {
        "id": "UrDqejSPsdca"
      },
      "id": "UrDqejSPsdca"
    },
    {
      "cell_type": "markdown",
      "source": [
        "### Step 1: Define the null and alternate hypotheses"
      ],
      "metadata": {
        "id": "XZnmasMNIomG"
      },
      "id": "XZnmasMNIomG"
    },
    {
      "cell_type": "markdown",
      "source": [
        "\n",
        "Let $\\mu_1, \\mu_2, \\mu_3$ be the means of the time spent on the new page for the different language users English, Spanish, and French respectively.\n",
        "\n",
        "We will test the null hypothesis\n",
        "\n",
        ">$H_0: \\mu_1 = \\mu_2 = \\mu_3$\n",
        "\n",
        "against the alternative hypothesis\n",
        "\n",
        ">$H_a: $ At least one means of the time spent on the new page is different from the rest."
      ],
      "metadata": {
        "id": "enCmcObkPcFY"
      },
      "id": "enCmcObkPcFY"
    },
    {
      "cell_type": "markdown",
      "source": [
        "### Step 2: Select Appropriate test"
      ],
      "metadata": {
        "id": "INyYrJPGIxnQ"
      },
      "id": "INyYrJPGIxnQ"
    },
    {
      "cell_type": "markdown",
      "source": [
        "we need to compare means of three groups therefore we select ANOVA test."
      ],
      "metadata": {
        "id": "xRt3CDIQRcAY"
      },
      "id": "xRt3CDIQRcAY"
    },
    {
      "cell_type": "markdown",
      "source": [
        "### Step 3: Decide the significance level"
      ],
      "metadata": {
        "id": "UGl58V0JI4wN"
      },
      "id": "UGl58V0JI4wN"
    },
    {
      "cell_type": "markdown",
      "source": [
        "As given in the problem statement, we select  α=0.05 ."
      ],
      "metadata": {
        "id": "kRoa8j1ASKDH"
      },
      "id": "kRoa8j1ASKDH"
    },
    {
      "cell_type": "markdown",
      "source": [
        "### Step 4: Collect and prepare data"
      ],
      "metadata": {
        "id": "SaJQoOEXI_8z"
      },
      "id": "SaJQoOEXI_8z"
    },
    {
      "cell_type": "code",
      "source": [
        "print(new.groupby(\"language_preferred\")['time_spent_on_the_page'].mean())"
      ],
      "metadata": {
        "colab": {
          "base_uri": "https://localhost:8080/"
        },
        "id": "eRv3c_JyVfsk",
        "outputId": "37cfb02a-6c17-411b-ea47-841ca72b661c"
      },
      "id": "eRv3c_JyVfsk",
      "execution_count": 164,
      "outputs": [
        {
          "output_type": "stream",
          "name": "stdout",
          "text": [
            "language_preferred\n",
            "English    6.663750\n",
            "French     6.196471\n",
            "Spanish    5.835294\n",
            "Name: time_spent_on_the_page, dtype: float64\n"
          ]
        }
      ]
    },
    {
      "cell_type": "markdown",
      "source": [
        "#### ANOVA Assumptions:"
      ],
      "metadata": {
        "id": "s_45AIXwdel1"
      },
      "id": "s_45AIXwdel1"
    },
    {
      "cell_type": "markdown",
      "source": [
        "##### Assumption 1: Normality"
      ],
      "metadata": {
        "id": "YLNcD1SKU1Q2"
      },
      "id": "YLNcD1SKU1Q2"
    },
    {
      "cell_type": "markdown",
      "source": [
        "\n",
        ">$H_0$: the data from normal distribution.\n",
        "\n",
        ">$H_a$: that is not true"
      ],
      "metadata": {
        "id": "vwddM83yVY-e"
      },
      "id": "vwddM83yVY-e"
    },
    {
      "cell_type": "code",
      "source": [
        "# Shapiro Test\n",
        "from scipy import stats\n",
        "test, pvalue = stats.shapiro(new['time_spent_on_the_page'])\n",
        "print('The test value is {} and the P_value is {}'.format(test,pvalue))"
      ],
      "metadata": {
        "colab": {
          "base_uri": "https://localhost:8080/"
        },
        "id": "QEb8FzbSds4w",
        "outputId": "ace8c5ab-8e9d-4244-9eed-b4b6fb844baf"
      },
      "id": "QEb8FzbSds4w",
      "execution_count": 165,
      "outputs": [
        {
          "output_type": "stream",
          "name": "stdout",
          "text": [
            "The test value is 0.9857664704322815 and the P_value is 0.8040016293525696\n"
          ]
        }
      ]
    },
    {
      "cell_type": "markdown",
      "source": [
        "- Since the P_value is greater than the significance level 0.05 and we did not reject $H_0$ then, the normality assumption is met"
      ],
      "metadata": {
        "id": "SH27qVqzWoXz"
      },
      "id": "SH27qVqzWoXz"
    },
    {
      "cell_type": "markdown",
      "source": [
        "##### Assumption 2: Homogenity:"
      ],
      "metadata": {
        "id": "5Iy_ReujXIi5"
      },
      "id": "5Iy_ReujXIi5"
    },
    {
      "cell_type": "markdown",
      "source": [
        "Let $\\sigma^2_1$ and $\\sigma^2_2$ and $\\sigma^2_3$ be the variance of the time spent on the new page for the different language users English, Spanish, and French respectively.\n",
        "\n",
        "Mathematically, the above formulated hypotheses can be written as:\n",
        ">$H_0: \\sigma^2_1 = \\sigma^2_2 = \\sigma^2_3$ <br>\n",
        ">$H_a: \\sigma^2_1 \\neq \\sigma^2_2 \\neq \\sigma^2_3$"
      ],
      "metadata": {
        "id": "0vFo7UlyX4-u"
      },
      "id": "0vFo7UlyX4-u"
    },
    {
      "cell_type": "code",
      "source": [
        "# Levene's Test\n",
        "from scipy.stats import levene\n",
        "stat, pvalue = levene(new['time_spent_on_the_page'][new['language_preferred']=='English'],\n",
        "                      new['time_spent_on_the_page'][new['language_preferred']=='Spanish'],\n",
        "                      new['time_spent_on_the_page'][new['language_preferred']=='French'])\n",
        "print('The test value is {} and the P_value is {}'.format(test,pvalue))"
      ],
      "metadata": {
        "colab": {
          "base_uri": "https://localhost:8080/"
        },
        "id": "KX6AmbMkeSzX",
        "outputId": "81464fa8-f53f-44ef-b689-7f15bec0bd93"
      },
      "id": "KX6AmbMkeSzX",
      "execution_count": 166,
      "outputs": [
        {
          "output_type": "stream",
          "name": "stdout",
          "text": [
            "The test value is 0.9857664704322815 and the P_value is 0.46711357711340173\n"
          ]
        }
      ]
    },
    {
      "cell_type": "markdown",
      "source": [
        "- Since the P_value is greater than the significance level 0.05 and we did not reject $H_0$ then, the equal variance assumption is met"
      ],
      "metadata": {
        "id": "cv3cYaiFbK2J"
      },
      "id": "cv3cYaiFbK2J"
    },
    {
      "cell_type": "markdown",
      "source": [
        "### Step 5: Calculate the p-value"
      ],
      "metadata": {
        "id": "1opAagcIJGSQ"
      },
      "id": "1opAagcIJGSQ"
    },
    {
      "cell_type": "code",
      "source": [
        "from scipy.stats import f_oneway\n",
        "stat, pvalue = f_oneway(new.loc[new['language_preferred'] == 'English','time_spent_on_the_page'],\n",
        "                        new.loc[new['language_preferred'] == 'Spanish','time_spent_on_the_page'],\n",
        "                        new.loc[new['language_preferred'] == 'French','time_spent_on_the_page'])\n",
        "print('The test value is {} and the P_value is {}'.format(test,pvalue))"
      ],
      "metadata": {
        "colab": {
          "base_uri": "https://localhost:8080/"
        },
        "id": "O-RYFeP_iJQe",
        "outputId": "f7c794fc-8d4a-4506-ea87-984a35b2b4bf"
      },
      "id": "O-RYFeP_iJQe",
      "execution_count": 167,
      "outputs": [
        {
          "output_type": "stream",
          "name": "stdout",
          "text": [
            "The test value is 0.9857664704322815 and the P_value is 0.43204138694325955\n"
          ]
        }
      ]
    },
    {
      "cell_type": "markdown",
      "source": [
        "### Step 6: Compare the p-value with $\\alpha$"
      ],
      "metadata": {
        "id": "-Rr0Z8JiJPK_"
      },
      "id": "-Rr0Z8JiJPK_"
    },
    {
      "cell_type": "code",
      "source": [
        "if pvalue < 0.05:\n",
        "    print('Since the p-value {} is less than the level of significance, we reject the null hypothesis.'.format(pvalue))\n",
        "else:\n",
        "    print('Since the p-value {} is greater than the level of significance, we fail to reject the null hypothesis.'.format(pvalue))"
      ],
      "metadata": {
        "colab": {
          "base_uri": "https://localhost:8080/"
        },
        "id": "Nrbmx6HykZyr",
        "outputId": "44f5d27c-ed10-4f64-db60-488a8a3ffdce"
      },
      "id": "Nrbmx6HykZyr",
      "execution_count": 168,
      "outputs": [
        {
          "output_type": "stream",
          "name": "stdout",
          "text": [
            "Since the p-value 0.43204138694325955 is greater than the level of significance, we fail to reject the null hypothesis.\n"
          ]
        }
      ]
    },
    {
      "cell_type": "markdown",
      "source": [
        "### Step 7:  Draw inference\n",
        "As the p-value is greater than the significance level 0.05, we dont have enough statistical evidence to reject the null hypothesis. Thus, there is no significant difference between the time spent on the new page for the different language users."
      ],
      "metadata": {
        "id": "f--nIPERJQ_U"
      },
      "id": "f--nIPERJQ_U"
    },
    {
      "cell_type": "markdown",
      "metadata": {
        "id": "3acbc947"
      },
      "source": [
        "## Conclusion and Business Recommendations"
      ],
      "id": "3acbc947"
    },
    {
      "cell_type": "markdown",
      "metadata": {
        "id": "21fb1063"
      },
      "source": [
        "\n",
        "\n",
        "-  To answer the question if the users spend more time on the new landing page than the existing landing page, two-sample independent t-test was performed. At 5% significance level, we reject the null hypothesis. Hence we have enough statistical evidence to support the claim that the users spend more time on the new landing page than on the existing landing page.\n",
        "\n",
        "-  To answer the question if the conversion rate (the proportion of users who visit the landing page and get converted) for the new page greater than the conversion rate for the old page, a two-proportion z-test was performed. As the p-value is less than the significance level 0.05, we have enough statistical evidence to reject the null hypothesis. Thus, the conversion rate (the proportion of users who visit the landing page and get converted) for the new page is greater than the conversion rate for the old page.\n",
        "\n",
        "- To answer the question if the conversion and preferred language are independent or related, a chi-square test for independence was performed. As the p-value is greater than the significance level 0.05, we dont have enough statistical evidence to reject the null hypothesis. Thus, the conversion and preferred language are independent.\n",
        "\n",
        "- To answer the question if the time spent on the new page same for the different language users,  a one-way ANOVA test was performed. As the p-value is greater than the significance level 0.05, we dont have enough statistical evidence to reject the null hypothesis. Thus, there is no significant difference between the time spent on the new page for the different language users.\n",
        "\n",
        "Recommedations:\n",
        "\n",
        "- The current webpage is not designed well enough in terms of the outline & recommended content to keep customers engaged long enough to decide to subscribe. In conclusion, The results of the analysis support the executives opinion that the new landing page is more effective in gathering new subscribers for the news portal and the conversion rate to subscribers will be similar throughout the different languages.\n"
      ],
      "id": "21fb1063"
    },
    {
      "cell_type": "markdown",
      "source": [
        "___"
      ],
      "metadata": {
        "id": "U0dAd4i0iCHo"
      },
      "id": "U0dAd4i0iCHo"
    }
  ]
}